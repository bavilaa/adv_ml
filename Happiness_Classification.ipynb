{
  "nbformat": 4,
  "nbformat_minor": 0,
  "metadata": {
    "colab": {
      "name": "Assignment1_f.ipynb",
      "provenance": [],
      "collapsed_sections": [],
      "toc_visible": true,
      "mount_file_id": "1PhCmqdokM9A8xRcy9DLUX6CdKolQap6q",
      "authorship_tag": "ABX9TyNO2S6rj7ulwHRYwyw0jwDk",
      "include_colab_link": true
    },
    "kernelspec": {
      "name": "python3",
      "display_name": "Python 3"
    }
  },
  "cells": [
    {
      "cell_type": "markdown",
      "metadata": {
        "id": "view-in-github",
        "colab_type": "text"
      },
      "source": [
        "<a href=\"https://colab.research.google.com/github/bavilaa/adv_ml/blob/master/Assignment1_f.ipynb\" target=\"_parent\"><img src=\"https://colab.research.google.com/assets/colab-badge.svg\" alt=\"Open In Colab\"/></a>"
      ]
    },
    {
      "cell_type": "code",
      "metadata": {
        "id": "lO0Mf5ehsu_r",
        "colab_type": "code",
        "colab": {}
      },
      "source": [
        "#Pandas\n",
        "\n",
        "import pandas as pd\n",
        "\n",
        "#Activating Google Drive\n",
        "\n",
        "from pydrive.auth import GoogleAuth\n",
        "from pydrive.drive import GoogleDrive\n",
        "from google.colab import auth\n",
        "from oauth2client.client import GoogleCredentials\n",
        "\n",
        "#Ploting\n",
        "\n",
        "%matplotlib notebook\n",
        "%matplotlib inline\n",
        "import matplotlib.pyplot as plt"
      ],
      "execution_count": 0,
      "outputs": []
    },
    {
      "cell_type": "code",
      "metadata": {
        "id": "QP8Il4AAtrgG",
        "colab_type": "code",
        "colab": {}
      },
      "source": [
        "from google.colab import drive\n",
        "auth.authenticate_user()\n",
        "gauth = GoogleAuth()\n",
        "gauth.credentials = GoogleCredentials.get_application_default()\n",
        "drive = GoogleDrive(gauth)\n"
      ],
      "execution_count": 0,
      "outputs": []
    },
    {
      "cell_type": "markdown",
      "metadata": {
        "id": "zs8TrQKK4go5",
        "colab_type": "text"
      },
      "source": [
        "Instructions:\n",
        "\n",
        "Your final report should be written up in a Jupyter notebook.  It should be posted to a public Github repo as an ipynb AND it should be saved as an html file and submitted to this assignment via courseworks.  Please include the link to your Github repo in this html file.\n",
        "\n",
        "Note: We used countries as a categorical variable during our in class mini-hackathon.   This variable actually is categorical at the observation level.  Suffice it to say, in practice we do not really want to build a categorical variable using a variable that has as many categories as it we have observations in our dataset. \n",
        "\n",
        "Before building your model replace the variable denoting country names with a new variable denoting world regions.  Here is a dataset you can use to merge in this data: https://github.com/lukes/ISO-3166-Countries-with-Regional-Codes/blob/master/all/all.csv (Links to an external site.)\n",
        "\n",
        "Feel free to use R, Excel, or your preferred program to update your csv file before building your model.    You are welcome, but not required, to add any other country level features you would like to your dataset before using the data to complete your report. \n",
        "\n",
        "Your report should include the following information:\n",
        "\n",
        "Explore bivariate results (Use visualizations!)\n",
        "Describe any relationships you see between particular features and the target variable\n",
        "Examine features that predict happiness categories using one or more models that allow for automatic feature selection\n",
        "Explain any meaningful findings\n",
        "Run at least three prediction models to try to predict World Happiness well.\n",
        "Discuss which models performed better and point out relevant hyper-parameter values for successful models.\n",
        "Submit your best model to the leader board for the World Happiness AI Model Share competition.\n",
        "You have the option to discuss these models in your report, but it is not required."
      ]
    },
    {
      "cell_type": "code",
      "metadata": {
        "id": "yaP5-3vN4P5V",
        "colab_type": "code",
        "colab": {}
      },
      "source": [
        "#Loading the data:"
      ],
      "execution_count": 0,
      "outputs": []
    },
    {
      "cell_type": "code",
      "metadata": {
        "id": "FZUFOW3ltviK",
        "colab_type": "code",
        "colab": {}
      },
      "source": [
        "route = '/content/drive/My Drive/Colab Notebooks/Adv.ML/'\n",
        "bd_name =  \"worldhappiness2019.csv\""
      ],
      "execution_count": 0,
      "outputs": []
    },
    {
      "cell_type": "code",
      "metadata": {
        "id": "aO3F3gbKufr-",
        "colab_type": "code",
        "colab": {}
      },
      "source": [
        "df = pd.read_csv(route + bd_name)\n",
        "\n",
        "regiondata=pd.read_csv(route+ \"all.csv\")"
      ],
      "execution_count": 0,
      "outputs": []
    },
    {
      "cell_type": "code",
      "metadata": {
        "id": "vq6uw959uh-P",
        "colab_type": "code",
        "outputId": "3020b0db-c125-4ab0-b6d4-0694ee6c54c9",
        "colab": {
          "base_uri": "https://localhost:8080/",
          "height": 123
        }
      },
      "source": [
        "df.head(2)"
      ],
      "execution_count": 6,
      "outputs": [
        {
          "output_type": "execute_result",
          "data": {
            "text/html": [
              "<div>\n",
              "<style scoped>\n",
              "    .dataframe tbody tr th:only-of-type {\n",
              "        vertical-align: middle;\n",
              "    }\n",
              "\n",
              "    .dataframe tbody tr th {\n",
              "        vertical-align: top;\n",
              "    }\n",
              "\n",
              "    .dataframe thead th {\n",
              "        text-align: right;\n",
              "    }\n",
              "</style>\n",
              "<table border=\"1\" class=\"dataframe\">\n",
              "  <thead>\n",
              "    <tr style=\"text-align: right;\">\n",
              "      <th></th>\n",
              "      <th>Happiness_level</th>\n",
              "      <th>Country or region</th>\n",
              "      <th>GDP per capita</th>\n",
              "      <th>Social support</th>\n",
              "      <th>Healthy life expectancy</th>\n",
              "      <th>Freedom to make life choices</th>\n",
              "      <th>Generosity</th>\n",
              "      <th>Perceptions of corruption</th>\n",
              "    </tr>\n",
              "  </thead>\n",
              "  <tbody>\n",
              "    <tr>\n",
              "      <th>0</th>\n",
              "      <td>Very High</td>\n",
              "      <td>Finland</td>\n",
              "      <td>1.340</td>\n",
              "      <td>1.587</td>\n",
              "      <td>0.986</td>\n",
              "      <td>0.596</td>\n",
              "      <td>0.153</td>\n",
              "      <td>0.393</td>\n",
              "    </tr>\n",
              "    <tr>\n",
              "      <th>1</th>\n",
              "      <td>Very High</td>\n",
              "      <td>Denmark</td>\n",
              "      <td>1.383</td>\n",
              "      <td>1.573</td>\n",
              "      <td>0.996</td>\n",
              "      <td>0.592</td>\n",
              "      <td>0.252</td>\n",
              "      <td>0.410</td>\n",
              "    </tr>\n",
              "  </tbody>\n",
              "</table>\n",
              "</div>"
            ],
            "text/plain": [
              "  Happiness_level Country or region  ...  Generosity  Perceptions of corruption\n",
              "0       Very High           Finland  ...       0.153                      0.393\n",
              "1       Very High           Denmark  ...       0.252                      0.410\n",
              "\n",
              "[2 rows x 8 columns]"
            ]
          },
          "metadata": {
            "tags": []
          },
          "execution_count": 6
        }
      ]
    },
    {
      "cell_type": "code",
      "metadata": {
        "id": "qoVSht3kupv3",
        "colab_type": "code",
        "outputId": "edbf95a5-1de2-4945-e4f6-9711b4e44aab",
        "colab": {
          "base_uri": "https://localhost:8080/",
          "height": 210
        }
      },
      "source": [
        "\n",
        "mergedata=pd.merge(df, regiondata, how='left', left_on='Country or region', right_on='name')\n",
        "# Check for missing values (there won't be any given that I have already cleaned up the region data)\n",
        "mergedata.loc[pd.isnull(mergedata).iloc[:,9]].to_csv(\"missing.csv\",index=False)\n",
        "\n",
        "# clean up final region data\n",
        "X=mergedata.drop(['Happiness_level'],axis=1)\n",
        "X=X.drop(['name'],axis=1)\n",
        "X=X.drop(['Country or region'],axis=1)\n",
        "X=X.drop(['sub-region'],axis=1)\n",
        "\n",
        "X.head(2)"
      ],
      "execution_count": 7,
      "outputs": [
        {
          "output_type": "execute_result",
          "data": {
            "text/html": [
              "<div>\n",
              "<style scoped>\n",
              "    .dataframe tbody tr th:only-of-type {\n",
              "        vertical-align: middle;\n",
              "    }\n",
              "\n",
              "    .dataframe tbody tr th {\n",
              "        vertical-align: top;\n",
              "    }\n",
              "\n",
              "    .dataframe thead th {\n",
              "        text-align: right;\n",
              "    }\n",
              "</style>\n",
              "<table border=\"1\" class=\"dataframe\">\n",
              "  <thead>\n",
              "    <tr style=\"text-align: right;\">\n",
              "      <th></th>\n",
              "      <th>GDP per capita</th>\n",
              "      <th>Social support</th>\n",
              "      <th>Healthy life expectancy</th>\n",
              "      <th>Freedom to make life choices</th>\n",
              "      <th>Generosity</th>\n",
              "      <th>Perceptions of corruption</th>\n",
              "      <th>alpha-2</th>\n",
              "      <th>alpha-3</th>\n",
              "      <th>country-code</th>\n",
              "      <th>iso_3166-2</th>\n",
              "      <th>region</th>\n",
              "      <th>intermediate-region</th>\n",
              "      <th>region-code</th>\n",
              "      <th>sub-region-code</th>\n",
              "      <th>intermediate-region-code</th>\n",
              "    </tr>\n",
              "  </thead>\n",
              "  <tbody>\n",
              "    <tr>\n",
              "      <th>0</th>\n",
              "      <td>1.340</td>\n",
              "      <td>1.587</td>\n",
              "      <td>0.986</td>\n",
              "      <td>0.596</td>\n",
              "      <td>0.153</td>\n",
              "      <td>0.393</td>\n",
              "      <td>FI</td>\n",
              "      <td>FIN</td>\n",
              "      <td>246.0</td>\n",
              "      <td>ISO 3166-2:FI</td>\n",
              "      <td>Europe</td>\n",
              "      <td>NaN</td>\n",
              "      <td>150.0</td>\n",
              "      <td>154.0</td>\n",
              "      <td>NaN</td>\n",
              "    </tr>\n",
              "    <tr>\n",
              "      <th>1</th>\n",
              "      <td>1.383</td>\n",
              "      <td>1.573</td>\n",
              "      <td>0.996</td>\n",
              "      <td>0.592</td>\n",
              "      <td>0.252</td>\n",
              "      <td>0.410</td>\n",
              "      <td>DK</td>\n",
              "      <td>DNK</td>\n",
              "      <td>208.0</td>\n",
              "      <td>ISO 3166-2:DK</td>\n",
              "      <td>Europe</td>\n",
              "      <td>NaN</td>\n",
              "      <td>150.0</td>\n",
              "      <td>154.0</td>\n",
              "      <td>NaN</td>\n",
              "    </tr>\n",
              "  </tbody>\n",
              "</table>\n",
              "</div>"
            ],
            "text/plain": [
              "   GDP per capita  Social support  ...  sub-region-code  intermediate-region-code\n",
              "0           1.340           1.587  ...            154.0                       NaN\n",
              "1           1.383           1.573  ...            154.0                       NaN\n",
              "\n",
              "[2 rows x 15 columns]"
            ]
          },
          "metadata": {
            "tags": []
          },
          "execution_count": 7
        }
      ]
    },
    {
      "cell_type": "code",
      "metadata": {
        "id": "kEtLOkeJA0KM",
        "colab_type": "code",
        "colab": {}
      },
      "source": [
        "# Set up training and test data\n",
        "from sklearn.model_selection import train_test_split\n",
        "\n",
        "#y=mergedata['Happiness_level']\n",
        "#X=data.drop(['Happiness_level'],axis=1)\n",
        "X = mergedata\n",
        "\n",
        "X=X.drop(['name'],axis=1)\n",
        "X=X.drop(['Country or region'],axis=1)\n",
        "X=X.drop(['sub-region'],axis=1)\n",
        "#X=X.drop(['alpha-1'],axis=1)\n",
        "X=X.drop(['alpha-2'],axis=1)\n",
        "X=X.drop(['alpha-3'],axis=1)\n",
        "X=X.drop(['country-code'],axis=1)\n",
        "X=X.drop(['iso_3166-2'],axis=1)\n",
        "X=X.drop(['intermediate-region'],axis=1)\n",
        "X=X.drop(['region-code'],axis=1)\n",
        "X=X.drop(['sub-region-code'],axis=1)\n",
        "X=X.drop(['intermediate-region-code'],axis=1)\n",
        "\n",
        "#Manual enconding:\n",
        "\n",
        "happy_dict = {\"Very High\": 5, \"High\": 4 ,\"Average\":3 , \"Low\" : 2 , \"Very Low\" :1}\n",
        "X['hap_num'] = X['Happiness_level'].replace(happy_dict)\n",
        "X['hap_num'] = X['hap_num'].astype('float64')\n",
        "X.head(2)\n",
        "\n",
        "\n",
        "y2=X['hap_num']\n",
        "y=X['Happiness_level']\n",
        "\t\t\t\n",
        "\n",
        "\n",
        "X_train, X_test, y_train, y_test = train_test_split(X, y, random_state=42)\n",
        "\n",
        "X_train, X_test, y2_train, y2_test = train_test_split(X, y2, random_state=42)"
      ],
      "execution_count": 0,
      "outputs": []
    },
    {
      "cell_type": "markdown",
      "metadata": {
        "id": "KNt7KpUrC_pS",
        "colab_type": "text"
      },
      "source": [
        "\n"
      ]
    },
    {
      "cell_type": "code",
      "metadata": {
        "id": "svuVGJaNA6UF",
        "colab_type": "code",
        "colab": {}
      },
      "source": [
        "\n"
      ],
      "execution_count": 0,
      "outputs": []
    },
    {
      "cell_type": "markdown",
      "metadata": {
        "id": "p-xhO_B5CkcM",
        "colab_type": "text"
      },
      "source": [
        "#Plot all variables v/s GDP"
      ]
    },
    {
      "cell_type": "code",
      "metadata": {
        "id": "UoUFKj6QBaYg",
        "colab_type": "code",
        "outputId": "1c9404aa-6ff2-4ec0-e3fc-7b535413a193",
        "colab": {
          "base_uri": "https://localhost:8080/",
          "height": 627
        }
      },
      "source": [
        "import matplotlib.pyplot as plt\n",
        "\n",
        "y_variable =  'GDP per capita'\n",
        "x_variable = 'Social support'\n",
        "\n",
        "\n",
        "\n",
        "\n",
        "fig = plt.figure()\n",
        "\n",
        "fig.set_figheight(40)\n",
        "fig.set_figwidth(40)\n",
        "\n",
        "\n",
        "fig, axes = plt.subplots(nrows=3, ncols=2)\n",
        "X_train.plot.scatter(x=x_variable,\n",
        "                      y=y_variable,\n",
        "                      c='hap_num',\n",
        "                      colormap='BrBG',\n",
        "                       figsize=(16,10),\n",
        "                       ax=axes[0,0])\n",
        "\n",
        "y_variable =  'GDP per capita'\n",
        "x_variable = 'Healthy life expectancy'\n",
        "X_train.plot.scatter(x=x_variable,\n",
        "                      y=y_variable,\n",
        "                      c='hap_num',\n",
        "                      colormap='BrBG',\n",
        "                       figsize=(16,10),\n",
        "                       ax=axes[0,1])\n",
        "\n",
        "\n",
        "y_variable =  'GDP per capita'\n",
        "x_variable = 'Freedom to make life choices'\n",
        "X_train.plot.scatter(x=x_variable,\n",
        "                      y=y_variable,\n",
        "                      c='hap_num',\n",
        "                      colormap='BrBG',\n",
        "                       figsize=(16,10),\n",
        "                       ax=axes[1,0])\n",
        "\n",
        "\n",
        "y_variable =  'GDP per capita'\n",
        "x_variable = 'Generosity'\n",
        "X_train.plot.scatter(x=x_variable,\n",
        "                      y=y_variable,\n",
        "                      c='hap_num',\n",
        "                      colormap='BrBG',\n",
        "                       figsize=(16,10),\n",
        "                       ax=axes[1,1])\n",
        "\n",
        "y_variable =  'GDP per capita'\n",
        "x_variable = 'Perceptions of corruption'\n",
        "X_train.plot.scatter(x=x_variable,\n",
        "                      y=y_variable,\n",
        "                      c='hap_num',\n",
        "                      colormap='BrBG',\n",
        "                       figsize=(16,10),\n",
        "                       ax=axes[2,0])\n",
        "\n",
        "\n",
        "y_variable =  'GDP per capita'\n",
        "x_variable = 'Perceptions of corruption'\n",
        "X_train.plot.scatter(x=x_variable,\n",
        "                      y=y_variable,\n",
        "                      c='hap_num',\n",
        "                      colormap='BrBG',\n",
        "                       figsize=(16,10),\n",
        "                       ax=axes[2,1])\n",
        "\n",
        "#ax.set_xlabel(x_variable)\n",
        "#ax.set_ylabel(y_variable)\n",
        "plt.show()"
      ],
      "execution_count": 9,
      "outputs": [
        {
          "output_type": "display_data",
          "data": {
            "text/plain": [
              "<Figure size 2880x2880 with 0 Axes>"
            ]
          },
          "metadata": {
            "tags": []
          }
        },
        {
          "output_type": "display_data",
          "data": {
            "image/png": "[encoded data removed]",
            "text/plain": [
              "<Figure size 1152x720 with 12 Axes>"
            ]
          },
          "metadata": {
            "tags": []
          }
        }
      ]
    },
    {
      "cell_type": "markdown",
      "metadata": {
        "id": "OUtI2v2tPz0m",
        "colab_type": "text"
      },
      "source": [
        "-GDP percapita has a great prediction power, countries with high(low) GDP are more happy (unhappy).\n",
        "\n",
        "-Social Support: simillar as GDP, however less than GDP, but is possible to see that countries high social support are more happy.\n",
        "\n",
        "-"
      ]
    },
    {
      "cell_type": "code",
      "metadata": {
        "id": "DlROQZGYETbR",
        "colab_type": "code",
        "outputId": "f80cabe6-748c-4601-e437-39ef339c3421",
        "colab": {
          "base_uri": "https://localhost:8080/",
          "height": 641
        }
      },
      "source": [
        "fig = plt.figure()\n",
        "\n",
        "fig.set_figheight(40)\n",
        "fig.set_figwidth(40)\n",
        "fig, axes = plt.subplots(nrows=3, ncols=2)\n",
        "\n",
        "x_variable = 'GDP per capita'\n",
        "X_train[x_variable].hist(ax=axes[0,0],figsize=(16,10))\n",
        "\n",
        "\n",
        "axes[0,0].set(xlabel=x_variable)\n",
        "\n",
        "x_variable = 'Social support'\n",
        "X_train[x_variable].hist(ax=axes[0,1],figsize=(16,10))\n",
        "\n",
        "axes[0,1].set(xlabel=x_variable)\n",
        "\n",
        "x_variable = 'Perceptions of corruption'\n",
        "X_train[x_variable].hist(ax=axes[1,0],figsize=(16,10))\n",
        "\n",
        "axes[1,0].set(xlabel=x_variable)\n",
        "\n",
        "x_variable = 'Healthy life expectancy'\n",
        "X_train[x_variable].hist(ax=axes[1,1],figsize=(16,10))\n",
        "\n",
        "axes[1,1].set(xlabel=x_variable)\n",
        "\n",
        "x_variable = 'Freedom to make life choices'\n",
        "X_train[x_variable].hist(ax=axes[2,0],figsize=(16,10))\n",
        "\n",
        "axes[2,0].set(xlabel=x_variable)\n",
        "\n",
        "x_variable = 'Generosity'\n",
        "X_train[x_variable].hist(ax=axes[2,1],figsize=(16,10))\n",
        "\n",
        "axes[2,1].set(xlabel=x_variable)\n",
        "\n",
        "\n",
        "\n",
        "\n",
        "\n",
        "\n",
        "\n"
      ],
      "execution_count": 10,
      "outputs": [
        {
          "output_type": "execute_result",
          "data": {
            "text/plain": [
              "[Text(0.5, 0, 'Generosity')]"
            ]
          },
          "metadata": {
            "tags": []
          },
          "execution_count": 10
        },
        {
          "output_type": "display_data",
          "data": {
            "text/plain": [
              "<Figure size 2880x2880 with 0 Axes>"
            ]
          },
          "metadata": {
            "tags": []
          }
        },
        {
          "output_type": "display_data",
          "data": {
            "image/png": "[encoded data removed]",
            "text/plain": [
              "<Figure size 1152x720 with 6 Axes>"
            ]
          },
          "metadata": {
            "tags": []
          }
        }
      ]
    },
    {
      "cell_type": "markdown",
      "metadata": {
        "id": "eMMAVN5EC7hD",
        "colab_type": "text"
      },
      "source": [
        "#Preprocess data using Column Transformer and save fit preprocessor to \".pkl\" file\n"
      ]
    },
    {
      "cell_type": "code",
      "metadata": {
        "colab_type": "code",
        "id": "oJUc7biiPPVi",
        "colab": {}
      },
      "source": [
        "X_train = X_train.drop('Happiness_level',axis=1)\n",
        "X_train = X_train.drop('hap_num',axis=1)\n",
        "\n"
      ],
      "execution_count": 0,
      "outputs": []
    },
    {
      "cell_type": "code",
      "metadata": {
        "id": "iVmr3F_apU8Q",
        "colab_type": "code",
        "colab": {}
      },
      "source": [
        "from sklearn.preprocessing import StandardScaler, OneHotEncoder\n",
        "from sklearn.compose import ColumnTransformer, make_column_transformer\n",
        "from sklearn.pipeline import Pipeline\n",
        "from sklearn.impute import SimpleImputer\n",
        "from sklearn.preprocessing import StandardScaler, OneHotEncoder\n",
        "\n",
        "# We create the preprocessing pipelines for both numeric and categorical data.\n",
        "\n",
        "numeric_features=X_train.columns.tolist()\n",
        "numeric_features.remove('region')\n",
        "\n",
        "numeric_transformer = Pipeline(steps=[\n",
        "    ('imputer', SimpleImputer(strategy='median')),\n",
        "    ('scaler', StandardScaler())])\n",
        "\n",
        "categorical_features = ['region']\n",
        "\n",
        "#replacing missing to avoid errors\n",
        "#Replacing missing values with Modal value and then one hot encoding.\n",
        "categorical_transformer = Pipeline(steps=[\n",
        "    ('imputer', SimpleImputer(strategy='most_frequent')),\n",
        "    ('onehot', OneHotEncoder(handle_unknown='ignore'))])\n",
        "\n",
        "# final preprocessor object set up with ColumnTransformer\n",
        "\n",
        "preprocessor = ColumnTransformer(\n",
        "    transformers=[\n",
        "        ('num', numeric_transformer, numeric_features),\n",
        "        ('cat', categorical_transformer, categorical_features)])\n",
        "\n",
        "\n",
        "#Fit your preprocessor object\n",
        "prediction_input_preprocessor=preprocessor.fit(X_train) \n",
        "\n",
        "#Pickle is a way to save objects to file in python\n",
        "import pickle\n",
        "pickle.dump(prediction_input_preprocessor, open( \"preprocessor.pkl\", \"wb\" ) )"
      ],
      "execution_count": 0,
      "outputs": []
    },
    {
      "cell_type": "markdown",
      "metadata": {
        "id": "0jUXgeIBDfC8",
        "colab_type": "text"
      },
      "source": [
        "#Examine features that predict happiness categories using one or more models that allow for automatic feature selection\n",
        "\n"
      ]
    },
    {
      "cell_type": "code",
      "metadata": {
        "id": "K4GyfV09p5yq",
        "colab_type": "code",
        "outputId": "87ab0347-f847-4ec5-bc18-69430caf3462",
        "colab": {
          "base_uri": "https://localhost:8080/",
          "height": 67
        }
      },
      "source": [
        "from sklearn.linear_model import Lasso\n",
        "from sklearn.feature_selection import SelectFromModel\n",
        "\n",
        "lassomodel = Lasso(alpha=0.5).fit(prediction_input_preprocessor.transform(X_train), y2_train)\n",
        "model = SelectFromModel(lassomodel, prefit=True) # prefit argument allows non zero features to be chosen\n",
        "                                                 # from regularized models like lasso\n",
        "    \n",
        "X_new = model.transform(prediction_input_preprocessor.transform(X_train)) # transform data to insert into new model\n",
        "\n",
        "print(lassomodel.coef_)\n",
        "print(X_new.shape) #down to four variables from 13"
      ],
      "execution_count": 13,
      "outputs": [
        {
          "output_type": "stream",
          "text": [
            "[ 0.34047092  0.15156092  0.21513933  0.          0.          0.\n",
            " -0.          0.         -0.          0.          0.        ]\n",
            "(117, 3)\n"
          ],
          "name": "stdout"
        }
      ]
    },
    {
      "cell_type": "markdown",
      "metadata": {
        "id": "uMpJ7hik5Z-3",
        "colab_type": "text"
      },
      "source": [
        "####The variables GDP per capital, Healthy life expectancy and Social support are the variables selected by the Lasso model.This is Similar to the findings using the scatter plots where these variables are linear dependent on GDP.\n",
        "#### In the other variables like Generosity or Freedom to make life choices these are not selected by the lasso model, in the scatter plots at the same level of these variables we can see different levels of happiness, which can be understood as little prediction power\n",
        "\n",
        "#### The new variable Region encoded using one hot was not selected by lasso. \n"
      ]
    },
    {
      "cell_type": "code",
      "metadata": {
        "id": "N0QWeHyJyI2s",
        "colab_type": "code",
        "outputId": "9ee31156-9a6b-48b1-c071-b70b224d36bf",
        "colab": {
          "base_uri": "https://localhost:8080/",
          "height": 77
        }
      },
      "source": [
        "X_train.head(1)"
      ],
      "execution_count": 14,
      "outputs": [
        {
          "output_type": "execute_result",
          "data": {
            "text/html": [
              "<div>\n",
              "<style scoped>\n",
              "    .dataframe tbody tr th:only-of-type {\n",
              "        vertical-align: middle;\n",
              "    }\n",
              "\n",
              "    .dataframe tbody tr th {\n",
              "        vertical-align: top;\n",
              "    }\n",
              "\n",
              "    .dataframe thead th {\n",
              "        text-align: right;\n",
              "    }\n",
              "</style>\n",
              "<table border=\"1\" class=\"dataframe\">\n",
              "  <thead>\n",
              "    <tr style=\"text-align: right;\">\n",
              "      <th></th>\n",
              "      <th>GDP per capita</th>\n",
              "      <th>Social support</th>\n",
              "      <th>Healthy life expectancy</th>\n",
              "      <th>Freedom to make life choices</th>\n",
              "      <th>Generosity</th>\n",
              "      <th>Perceptions of corruption</th>\n",
              "      <th>region</th>\n",
              "    </tr>\n",
              "  </thead>\n",
              "  <tbody>\n",
              "    <tr>\n",
              "      <th>26</th>\n",
              "      <td>0.8</td>\n",
              "      <td>1.269</td>\n",
              "      <td>0.746</td>\n",
              "      <td>0.535</td>\n",
              "      <td>0.175</td>\n",
              "      <td>0.078</td>\n",
              "      <td>Americas</td>\n",
              "    </tr>\n",
              "  </tbody>\n",
              "</table>\n",
              "</div>"
            ],
            "text/plain": [
              "    GDP per capita  Social support  ...  Perceptions of corruption    region\n",
              "26             0.8           1.269  ...                      0.078  Americas\n",
              "\n",
              "[1 rows x 7 columns]"
            ]
          },
          "metadata": {
            "tags": []
          },
          "execution_count": 14
        }
      ]
    },
    {
      "cell_type": "code",
      "metadata": {
        "id": "c4Kl-1Fy5YEt",
        "colab_type": "code",
        "colab": {}
      },
      "source": [
        ""
      ],
      "execution_count": 0,
      "outputs": []
    },
    {
      "cell_type": "markdown",
      "metadata": {
        "id": "QB5ZhIHE7eui",
        "colab_type": "text"
      },
      "source": [
        "#Model 1: SVC\n",
        "\n"
      ]
    },
    {
      "cell_type": "code",
      "metadata": {
        "id": "owdXTxW6O50_",
        "colab_type": "code",
        "colab": {}
      },
      "source": [
        "# First function to evaluate the models:\n",
        "import numpy as np\n",
        "from sklearn.metrics import accuracy_score\n",
        "from sklearn.metrics import f1_score\n",
        "from sklearn.metrics import precision_score\n",
        "from sklearn.metrics import recall_score\n",
        "from sklearn.metrics import roc_auc_score\n",
        "from sklearn.metrics import mean_squared_error\n",
        "from sklearn.metrics import r2_score\n",
        "from sklearn.metrics import mean_absolute_error\n",
        "import pandas as pd\n",
        "from math import sqrt\n",
        "\n",
        "def model_eval_metrics(y_true, y_pred,classification=\"TRUE\"):\n",
        "     if classification==\"TRUE\":\n",
        "        accuracy_eval = accuracy_score(y_true, y_pred)\n",
        "        f1_score_eval = f1_score(y_true, y_pred,average=\"macro\",zero_division=0)\n",
        "        precision_eval = precision_score(y_true, y_pred,average=\"macro\",zero_division=0)\n",
        "        recall_eval = recall_score(y_true, y_pred,average=\"macro\",zero_division=0)\n",
        "        mse_eval = 0\n",
        "        rmse_eval = 0\n",
        "        mae_eval = 0\n",
        "        r2_eval = 0\n",
        "        metricdata = {'accuracy': [accuracy_eval], 'f1_score': [f1_score_eval], 'precision': [precision_eval], 'recall': [recall_eval], 'mse': [mse_eval], 'rmse': [rmse_eval], 'mae': [mae_eval], 'r2': [r2_eval]}\n",
        "        finalmetricdata = pd.DataFrame.from_dict(metricdata)\n",
        "     else:\n",
        "        accuracy_eval = 0\n",
        "        f1_score_eval = 0\n",
        "        precision_eval = 0\n",
        "        recall_eval = 0\n",
        "        mse_eval = mean_squared_error(y_true, y_pred)\n",
        "        rmse_eval = sqrt(mean_squared_error(y_true, y_pred))\n",
        "        mae_eval = mean_absolute_error(y_true, y_pred)\n",
        "        r2_eval = r2_score(y_true, y_pred)\n",
        "        metricdata = {'accuracy': [accuracy_eval], 'f1_score': [f1_score_eval], 'precision': [precision_eval], 'recall': [recall_eval], 'mse': [mse_eval], 'rmse': [rmse_eval], 'mae': [mae_eval], 'r2': [r2_eval]}\n",
        "        finalmetricdata = pd.DataFrame.from_dict(metricdata)\n",
        "     return finalmetricdata\n",
        "\n",
        "#model_eval_metrics( y_test,predicted_labels,classification=\"TRUE\")"
      ],
      "execution_count": 0,
      "outputs": []
    },
    {
      "cell_type": "code",
      "metadata": {
        "id": "mZDDZ7ca7gGI",
        "colab_type": "code",
        "outputId": "ff0caa50-b913-437f-ec3c-632c19850bbc",
        "colab": {
          "base_uri": "https://localhost:8080/",
          "height": 138
        }
      },
      "source": [
        "#### New model , support vector classifier:\n",
        "\n",
        "\n",
        "from sklearn.model_selection import cross_val_score\n",
        "from sklearn.svm import SVC\n",
        "model = SVC(kernel='rbf')\n",
        "model.fit(prediction_input_preprocessor.transform(X_train), y_train)\n",
        "y_pred=model.predict(prediction_input_preprocessor.transform(X_test))\n",
        "\n",
        "#Import scikit-learn metrics module for accuracy calculation\n",
        "from sklearn import metrics\n",
        "# Model Accuracy, how often is the classifier correct?\n",
        "#print(\"Accuracy on Test Data:\",metrics.accuracy_score(y_test, y_pred))\n",
        "\n",
        "print(\"support vector classifier's cross validation accuracy:\", np.mean(cross_val_score(model, prediction_input_preprocessor.transform(X_train), y_train, cv=10)))\n",
        "print(\"support vector classifier's Test-Data prediction accuracy: {:.5f}\".format(model.score(prediction_input_preprocessor.transform(X_test), y_test)))"
      ],
      "execution_count": 16,
      "outputs": [
        {
          "output_type": "stream",
          "text": [
            "support vector classifier's cross validation accuracy: 0.5234848484848484\n",
            "support vector classifier's Test-Data prediction accuracy: 0.41026\n"
          ],
          "name": "stdout"
        },
        {
          "output_type": "stream",
          "text": [
            "/usr/local/lib/python3.6/dist-packages/sklearn/compose/_column_transformer.py:430: FutureWarning: Given feature/column names or counts do not match the ones for the data given during fit. This will fail from v0.24.\n",
            "  FutureWarning)\n",
            "/usr/local/lib/python3.6/dist-packages/sklearn/compose/_column_transformer.py:430: FutureWarning: Given feature/column names or counts do not match the ones for the data given during fit. This will fail from v0.24.\n",
            "  FutureWarning)\n"
          ],
          "name": "stderr"
        }
      ]
    },
    {
      "cell_type": "code",
      "metadata": {
        "id": "OvWExx6L9gGb",
        "colab_type": "code",
        "outputId": "d96bc298-dee9-435c-bfd8-5a97e7177db5",
        "colab": {
          "base_uri": "https://localhost:8080/",
          "height": 84
        }
      },
      "source": [
        "from sklearn.svm import SVC\n",
        "from sklearn.model_selection import cross_val_score\n",
        "svclassifier = SVC(kernel='linear')\n",
        "svclassifier.fit(prediction_input_preprocessor.transform(X_train), y_train)\n",
        "\n",
        "#[['GDP per capita','Healthy life expectancy','Social support']]"
      ],
      "execution_count": 17,
      "outputs": [
        {
          "output_type": "execute_result",
          "data": {
            "text/plain": [
              "SVC(C=1.0, break_ties=False, cache_size=200, class_weight=None, coef0=0.0,\n",
              "    decision_function_shape='ovr', degree=3, gamma='scale', kernel='linear',\n",
              "    max_iter=-1, probability=False, random_state=None, shrinking=True,\n",
              "    tol=0.001, verbose=False)"
            ]
          },
          "metadata": {
            "tags": []
          },
          "execution_count": 17
        }
      ]
    },
    {
      "cell_type": "code",
      "metadata": {
        "id": "VNPXFWNC9jNa",
        "colab_type": "code",
        "outputId": "b8579d8e-ef4a-4c03-f961-0caf21d66a73",
        "colab": {
          "base_uri": "https://localhost:8080/",
          "height": 77
        }
      },
      "source": [
        "modelevalobject=model_eval_metrics(y_test,y_pred,classification=\"TRUE\")\n",
        "modelevalobject"
      ],
      "execution_count": 18,
      "outputs": [
        {
          "output_type": "execute_result",
          "data": {
            "text/html": [
              "<div>\n",
              "<style scoped>\n",
              "    .dataframe tbody tr th:only-of-type {\n",
              "        vertical-align: middle;\n",
              "    }\n",
              "\n",
              "    .dataframe tbody tr th {\n",
              "        vertical-align: top;\n",
              "    }\n",
              "\n",
              "    .dataframe thead th {\n",
              "        text-align: right;\n",
              "    }\n",
              "</style>\n",
              "<table border=\"1\" class=\"dataframe\">\n",
              "  <thead>\n",
              "    <tr style=\"text-align: right;\">\n",
              "      <th></th>\n",
              "      <th>accuracy</th>\n",
              "      <th>f1_score</th>\n",
              "      <th>precision</th>\n",
              "      <th>recall</th>\n",
              "      <th>mse</th>\n",
              "      <th>rmse</th>\n",
              "      <th>mae</th>\n",
              "      <th>r2</th>\n",
              "    </tr>\n",
              "  </thead>\n",
              "  <tbody>\n",
              "    <tr>\n",
              "      <th>0</th>\n",
              "      <td>0.410256</td>\n",
              "      <td>0.419679</td>\n",
              "      <td>0.503571</td>\n",
              "      <td>0.425</td>\n",
              "      <td>0</td>\n",
              "      <td>0</td>\n",
              "      <td>0</td>\n",
              "      <td>0</td>\n",
              "    </tr>\n",
              "  </tbody>\n",
              "</table>\n",
              "</div>"
            ],
            "text/plain": [
              "   accuracy  f1_score  precision  recall  mse  rmse  mae  r2\n",
              "0  0.410256  0.419679   0.503571   0.425    0     0    0   0"
            ]
          },
          "metadata": {
            "tags": []
          },
          "execution_count": 18
        }
      ]
    },
    {
      "cell_type": "markdown",
      "metadata": {
        "id": "IP8dZ8HPDktu",
        "colab_type": "text"
      },
      "source": [
        "# MODEL 2 : Random forest Classifier"
      ]
    },
    {
      "cell_type": "markdown",
      "metadata": {
        "id": "lh7uSz0S_lIu",
        "colab_type": "text"
      },
      "source": [
        ""
      ]
    },
    {
      "cell_type": "code",
      "metadata": {
        "id": "Kt5Vz3Xz-wYt",
        "colab_type": "code",
        "outputId": "51020b9d-2aa1-406c-b690-68dda833cc61",
        "colab": {
          "base_uri": "https://localhost:8080/",
          "height": 138
        }
      },
      "source": [
        "from numpy import loadtxt\n",
        "import numpy as np\n",
        "from sklearn.ensemble import RandomForestClassifier\n",
        "from sklearn.ensemble import RandomForestRegressor\n",
        "from sklearn.model_selection import train_test_split\n",
        "from sklearn.metrics import accuracy_score\n",
        "from sklearn.model_selection import cross_val_score\n",
        "\n",
        "#Import Random Forest Model\n",
        "from sklearn.ensemble import RandomForestClassifier\n",
        "#Create a Random Forest Model\n",
        "model=RandomForestClassifier(n_estimators=1000, random_state = 0)\n",
        "#Train the model using the training sets y_pred=clf.predict(X_test)\n",
        "model.fit(prediction_input_preprocessor.transform(X_train), y_train)\n",
        "y_pred=model.predict(prediction_input_preprocessor.transform(X_test))\n",
        "\n",
        "#Import scikit-learn metrics module for accuracy calculation\n",
        "from sklearn import metrics\n",
        "# Model Accuracy, how often is the classifier correct?\n",
        "#print(\"Accuracy on Test Data:\",metrics.accuracy_score(y_test, y_pred))\n",
        "\n",
        "print(\"Random Forest Classifier's cross validation accuracy:\", np.mean(cross_val_score(model, prediction_input_preprocessor.transform(X_train), y_train, cv=10)))\n",
        "print(\"Random Forest Classifier's Test-Data prediction accuracy: {:.5f}\".format(model.score(prediction_input_preprocessor.transform(X_test), y_test)))"
      ],
      "execution_count": 19,
      "outputs": [
        {
          "output_type": "stream",
          "text": [
            "/usr/local/lib/python3.6/dist-packages/sklearn/compose/_column_transformer.py:430: FutureWarning: Given feature/column names or counts do not match the ones for the data given during fit. This will fail from v0.24.\n",
            "  FutureWarning)\n"
          ],
          "name": "stderr"
        },
        {
          "output_type": "stream",
          "text": [
            "Random Forest Classifier's cross validation accuracy: 0.5818181818181818\n",
            "Random Forest Classifier's Test-Data prediction accuracy: 0.41026\n"
          ],
          "name": "stdout"
        },
        {
          "output_type": "stream",
          "text": [
            "/usr/local/lib/python3.6/dist-packages/sklearn/compose/_column_transformer.py:430: FutureWarning: Given feature/column names or counts do not match the ones for the data given during fit. This will fail from v0.24.\n",
            "  FutureWarning)\n"
          ],
          "name": "stderr"
        }
      ]
    },
    {
      "cell_type": "code",
      "metadata": {
        "id": "vKAgip3UBkHr",
        "colab_type": "code",
        "outputId": "c24fda5c-a0ca-4703-d43c-a13d05d34e6f",
        "colab": {
          "base_uri": "https://localhost:8080/",
          "height": 121
        }
      },
      "source": [
        "from sklearn.model_selection import GridSearchCV\n",
        "\n",
        "\n",
        "param_grid = {'n_estimators': np.arange(500, 3000,500 )} #np.arange creates sequence of numbers for each k value\n",
        "\n",
        "grid = GridSearchCV(RandomForestClassifier(), param_grid=param_grid, cv=10)\n",
        "\n",
        "#use meta model methods to fit score and predict model:\n",
        "grid.fit(prediction_input_preprocessor.transform(X_train), y_train)\n",
        "\n",
        "#extract best score and parameter by calling objects \"best_score_\" and \"best_params_\"\n",
        "print(\"best mean cross-validation score: {:.3f}\".format(grid.best_score_))\n",
        "print(\"best parameters: {}\".format(grid.best_params_))\n",
        "print(\"test-set score: {:.3f}\".format(grid.score(prediction_input_preprocessor.transform(X_test), y_test)))"
      ],
      "execution_count": 20,
      "outputs": [
        {
          "output_type": "stream",
          "text": [
            "best mean cross-validation score: 0.591\n",
            "best parameters: {'n_estimators': 2500}\n"
          ],
          "name": "stdout"
        },
        {
          "output_type": "stream",
          "text": [
            "/usr/local/lib/python3.6/dist-packages/sklearn/compose/_column_transformer.py:430: FutureWarning: Given feature/column names or counts do not match the ones for the data given during fit. This will fail from v0.24.\n",
            "  FutureWarning)\n"
          ],
          "name": "stderr"
        },
        {
          "output_type": "stream",
          "text": [
            "test-set score: 0.410\n"
          ],
          "name": "stdout"
        }
      ]
    },
    {
      "cell_type": "code",
      "metadata": {
        "id": "l6EZr3WmUKPj",
        "colab_type": "code",
        "outputId": "2d6ac68e-a742-4b7b-ba25-dde6e03fa216",
        "colab": {
          "base_uri": "https://localhost:8080/",
          "height": 70
        }
      },
      "source": [
        "#Import Random Forest Model\n",
        "from sklearn.ensemble import RandomForestClassifier\n",
        "#Create a Random Forest Model\n",
        "model=RandomForestClassifier(n_estimators=1500, random_state = 0)\n",
        "#Train the model using the training sets y_pred=clf.predict(X_test)\n",
        "model.fit(prediction_input_preprocessor.transform(X_train), y_train)\n",
        "y_pred=model.predict(prediction_input_preprocessor.transform(X_test))\n",
        "\n",
        "#Import scikit-learn metrics module for accuracy calculation\n",
        "from sklearn import metrics\n",
        "# Model Accuracy, how often is the classifier correct?\n",
        "#print(\"Accuracy on Test Data:\",metrics.accuracy_score(y_test, y_pred))"
      ],
      "execution_count": 21,
      "outputs": [
        {
          "output_type": "stream",
          "text": [
            "/usr/local/lib/python3.6/dist-packages/sklearn/compose/_column_transformer.py:430: FutureWarning: Given feature/column names or counts do not match the ones for the data given during fit. This will fail from v0.24.\n",
            "  FutureWarning)\n"
          ],
          "name": "stderr"
        }
      ]
    },
    {
      "cell_type": "code",
      "metadata": {
        "id": "i82P8R75TRpB",
        "colab_type": "code",
        "outputId": "8f1f805f-5dbc-4031-cfeb-024dddb19890",
        "colab": {
          "base_uri": "https://localhost:8080/",
          "height": 77
        }
      },
      "source": [
        "modelevalobject=model_eval_metrics(y_test,y_pred,classification=\"TRUE\")\n",
        "modelevalobject"
      ],
      "execution_count": 22,
      "outputs": [
        {
          "output_type": "execute_result",
          "data": {
            "text/html": [
              "<div>\n",
              "<style scoped>\n",
              "    .dataframe tbody tr th:only-of-type {\n",
              "        vertical-align: middle;\n",
              "    }\n",
              "\n",
              "    .dataframe tbody tr th {\n",
              "        vertical-align: top;\n",
              "    }\n",
              "\n",
              "    .dataframe thead th {\n",
              "        text-align: right;\n",
              "    }\n",
              "</style>\n",
              "<table border=\"1\" class=\"dataframe\">\n",
              "  <thead>\n",
              "    <tr style=\"text-align: right;\">\n",
              "      <th></th>\n",
              "      <th>accuracy</th>\n",
              "      <th>f1_score</th>\n",
              "      <th>precision</th>\n",
              "      <th>recall</th>\n",
              "      <th>mse</th>\n",
              "      <th>rmse</th>\n",
              "      <th>mae</th>\n",
              "      <th>r2</th>\n",
              "    </tr>\n",
              "  </thead>\n",
              "  <tbody>\n",
              "    <tr>\n",
              "      <th>0</th>\n",
              "      <td>0.384615</td>\n",
              "      <td>0.397424</td>\n",
              "      <td>0.477381</td>\n",
              "      <td>0.391667</td>\n",
              "      <td>0</td>\n",
              "      <td>0</td>\n",
              "      <td>0</td>\n",
              "      <td>0</td>\n",
              "    </tr>\n",
              "  </tbody>\n",
              "</table>\n",
              "</div>"
            ],
            "text/plain": [
              "   accuracy  f1_score  precision    recall  mse  rmse  mae  r2\n",
              "0  0.384615  0.397424   0.477381  0.391667    0     0    0   0"
            ]
          },
          "metadata": {
            "tags": []
          },
          "execution_count": 22
        }
      ]
    },
    {
      "cell_type": "markdown",
      "metadata": {
        "id": "eesKsdr9OKeb",
        "colab_type": "text"
      },
      "source": [
        "# 3 Neural Network:"
      ]
    },
    {
      "cell_type": "code",
      "metadata": {
        "id": "GrUX4n7zBU0Z",
        "colab_type": "code",
        "outputId": "90ed147c-265b-4422-df34-33b24005ea8a",
        "colab": {
          "base_uri": "https://localhost:8080/",
          "height": 1000
        }
      },
      "source": [
        "from keras.models import Sequential\n",
        "from keras.layers import Dense, Activation, Dropout\n",
        "import keras\n",
        "from keras.optimizers import SGD\n",
        "model = Sequential()\n",
        "model.add(Dense(12, input_dim=11, activation='relu'))\n",
        "model.add(Dense(12, activation='relu'))\n",
        "model.add(Dense(12, activation='relu'))\n",
        "\n",
        "\n",
        "#Softmax for multiple categories, sig for only two categories.\n",
        "model.add(Dense(5, activation='softmax')) \n",
        "                                            \n",
        "# Compile model\n",
        " \n",
        "model.compile(loss='categorical_crossentropy', optimizer='sgd', metrics=['accuracy'])\n",
        "\n",
        "# Fitting the NN to the Training set\n",
        "model.fit(prediction_input_preprocessor.transform(X_train), pd.get_dummies(y_train), \n",
        "               batch_size = 20, \n",
        "               epochs = 300, validation_split=0.1)  \n"
      ],
      "execution_count": 23,
      "outputs": [
        {
          "output_type": "stream",
          "text": [
            "Using TensorFlow backend.\n"
          ],
          "name": "stderr"
        },
        {
          "output_type": "display_data",
          "data": {
            "text/html": [
              "<p style=\"color: red;\">\n",
              "The default version of TensorFlow in Colab will soon switch to TensorFlow 2.x.<br>\n",
              "We recommend you <a href=\"https://www.tensorflow.org/guide/migrate\" target=\"_blank\">upgrade</a> now \n",
              "or ensure your notebook will continue to use TensorFlow 1.x via the <code>%tensorflow_version 1.x</code> magic:\n",
              "<a href=\"https://colab.research.google.com/notebooks/tensorflow_version.ipynb\" target=\"_blank\">more info</a>.</p>\n"
            ],
            "text/plain": [
              "<IPython.core.display.HTML object>"
            ]
          },
          "metadata": {
            "tags": []
          }
        },
        {
          "output_type": "stream",
          "text": [
            "WARNING:tensorflow:From /usr/local/lib/python3.6/dist-packages/keras/backend/tensorflow_backend.py:66: The name tf.get_default_graph is deprecated. Please use tf.compat.v1.get_default_graph instead.\n",
            "\n",
            "WARNING:tensorflow:From /usr/local/lib/python3.6/dist-packages/keras/backend/tensorflow_backend.py:541: The name tf.placeholder is deprecated. Please use tf.compat.v1.placeholder instead.\n",
            "\n",
            "WARNING:tensorflow:From /usr/local/lib/python3.6/dist-packages/keras/backend/tensorflow_backend.py:4432: The name tf.random_uniform is deprecated. Please use tf.random.uniform instead.\n",
            "\n",
            "WARNING:tensorflow:From /usr/local/lib/python3.6/dist-packages/keras/optimizers.py:793: The name tf.train.Optimizer is deprecated. Please use tf.compat.v1.train.Optimizer instead.\n",
            "\n",
            "WARNING:tensorflow:From /usr/local/lib/python3.6/dist-packages/keras/backend/tensorflow_backend.py:3576: The name tf.log is deprecated. Please use tf.math.log instead.\n",
            "\n",
            "WARNING:tensorflow:From /usr/local/lib/python3.6/dist-packages/tensorflow_core/python/ops/math_grad.py:1424: where (from tensorflow.python.ops.array_ops) is deprecated and will be removed in a future version.\n",
            "Instructions for updating:\n",
            "Use tf.where in 2.0, which has the same broadcast rule as np.where\n",
            "WARNING:tensorflow:From /usr/local/lib/python3.6/dist-packages/keras/backend/tensorflow_backend.py:1033: The name tf.assign_add is deprecated. Please use tf.compat.v1.assign_add instead.\n",
            "\n",
            "WARNING:tensorflow:From /usr/local/lib/python3.6/dist-packages/keras/backend/tensorflow_backend.py:1020: The name tf.assign is deprecated. Please use tf.compat.v1.assign instead.\n",
            "\n",
            "WARNING:tensorflow:From /usr/local/lib/python3.6/dist-packages/keras/backend/tensorflow_backend.py:3005: The name tf.Session is deprecated. Please use tf.compat.v1.Session instead.\n",
            "\n",
            "Train on 105 samples, validate on 12 samples\n",
            "Epoch 1/300\n",
            "WARNING:tensorflow:From /usr/local/lib/python3.6/dist-packages/keras/backend/tensorflow_backend.py:190: The name tf.get_default_session is deprecated. Please use tf.compat.v1.get_default_session instead.\n",
            "\n",
            "WARNING:tensorflow:From /usr/local/lib/python3.6/dist-packages/keras/backend/tensorflow_backend.py:197: The name tf.ConfigProto is deprecated. Please use tf.compat.v1.ConfigProto instead.\n",
            "\n",
            "WARNING:tensorflow:From /usr/local/lib/python3.6/dist-packages/keras/backend/tensorflow_backend.py:207: The name tf.global_variables is deprecated. Please use tf.compat.v1.global_variables instead.\n",
            "\n",
            "WARNING:tensorflow:From /usr/local/lib/python3.6/dist-packages/keras/backend/tensorflow_backend.py:216: The name tf.is_variable_initialized is deprecated. Please use tf.compat.v1.is_variable_initialized instead.\n",
            "\n",
            "WARNING:tensorflow:From /usr/local/lib/python3.6/dist-packages/keras/backend/tensorflow_backend.py:223: The name tf.variables_initializer is deprecated. Please use tf.compat.v1.variables_initializer instead.\n",
            "\n",
            "105/105 [==============================] - 0s 4ms/step - loss: 1.5886 - acc: 0.2095 - val_loss: 1.6210 - val_acc: 0.0833\n",
            "Epoch 2/300\n",
            "105/105 [==============================] - 0s 134us/step - loss: 1.5844 - acc: 0.2095 - val_loss: 1.6189 - val_acc: 0.0833\n",
            "Epoch 3/300\n",
            "105/105 [==============================] - 0s 124us/step - loss: 1.5803 - acc: 0.2190 - val_loss: 1.6174 - val_acc: 0.0833\n",
            "Epoch 4/300\n",
            "105/105 [==============================] - 0s 146us/step - loss: 1.5759 - acc: 0.2000 - val_loss: 1.6159 - val_acc: 0.0833\n",
            "Epoch 5/300\n",
            "105/105 [==============================] - 0s 156us/step - loss: 1.5718 - acc: 0.2000 - val_loss: 1.6128 - val_acc: 0.0833\n",
            "Epoch 6/300\n",
            "105/105 [==============================] - 0s 127us/step - loss: 1.5677 - acc: 0.2000 - val_loss: 1.6113 - val_acc: 0.0833\n",
            "Epoch 7/300\n",
            "105/105 [==============================] - 0s 136us/step - loss: 1.5638 - acc: 0.2000 - val_loss: 1.6110 - val_acc: 0.0833\n",
            "Epoch 8/300\n",
            "105/105 [==============================] - 0s 146us/step - loss: 1.5596 - acc: 0.2095 - val_loss: 1.6092 - val_acc: 0.0833\n",
            "Epoch 9/300\n",
            "105/105 [==============================] - 0s 125us/step - loss: 1.5556 - acc: 0.2286 - val_loss: 1.6084 - val_acc: 0.0833\n",
            "Epoch 10/300\n",
            "105/105 [==============================] - 0s 129us/step - loss: 1.5514 - acc: 0.2381 - val_loss: 1.6062 - val_acc: 0.0833\n",
            "Epoch 11/300\n",
            "105/105 [==============================] - 0s 133us/step - loss: 1.5481 - acc: 0.2476 - val_loss: 1.6060 - val_acc: 0.0833\n",
            "Epoch 12/300\n",
            "105/105 [==============================] - 0s 161us/step - loss: 1.5442 - acc: 0.2571 - val_loss: 1.6055 - val_acc: 0.0833\n",
            "Epoch 13/300\n",
            "105/105 [==============================] - 0s 185us/step - loss: 1.5402 - acc: 0.2857 - val_loss: 1.6044 - val_acc: 0.1667\n",
            "Epoch 14/300\n",
            "105/105 [==============================] - 0s 190us/step - loss: 1.5363 - acc: 0.2857 - val_loss: 1.6039 - val_acc: 0.1667\n",
            "Epoch 15/300\n",
            "105/105 [==============================] - 0s 195us/step - loss: 1.5321 - acc: 0.2857 - val_loss: 1.6027 - val_acc: 0.1667\n",
            "Epoch 16/300\n",
            "105/105 [==============================] - 0s 155us/step - loss: 1.5276 - acc: 0.2857 - val_loss: 1.6007 - val_acc: 0.2500\n",
            "Epoch 17/300\n",
            "105/105 [==============================] - 0s 166us/step - loss: 1.5233 - acc: 0.2952 - val_loss: 1.5983 - val_acc: 0.2500\n",
            "Epoch 18/300\n",
            "105/105 [==============================] - 0s 158us/step - loss: 1.5193 - acc: 0.3048 - val_loss: 1.5975 - val_acc: 0.2500\n",
            "Epoch 19/300\n",
            "105/105 [==============================] - 0s 123us/step - loss: 1.5142 - acc: 0.3143 - val_loss: 1.5954 - val_acc: 0.2500\n",
            "Epoch 20/300\n",
            "105/105 [==============================] - 0s 139us/step - loss: 1.5099 - acc: 0.3333 - val_loss: 1.5935 - val_acc: 0.2500\n",
            "Epoch 21/300\n",
            "105/105 [==============================] - 0s 138us/step - loss: 1.5049 - acc: 0.3333 - val_loss: 1.5925 - val_acc: 0.2500\n",
            "Epoch 22/300\n",
            "105/105 [==============================] - 0s 137us/step - loss: 1.5002 - acc: 0.3619 - val_loss: 1.5896 - val_acc: 0.2500\n",
            "Epoch 23/300\n",
            "105/105 [==============================] - 0s 140us/step - loss: 1.4952 - acc: 0.3619 - val_loss: 1.5877 - val_acc: 0.2500\n",
            "Epoch 24/300\n",
            "105/105 [==============================] - 0s 157us/step - loss: 1.4898 - acc: 0.3619 - val_loss: 1.5859 - val_acc: 0.2500\n",
            "Epoch 25/300\n",
            "105/105 [==============================] - 0s 165us/step - loss: 1.4848 - acc: 0.3619 - val_loss: 1.5824 - val_acc: 0.2500\n",
            "Epoch 26/300\n",
            "105/105 [==============================] - 0s 139us/step - loss: 1.4794 - acc: 0.4000 - val_loss: 1.5789 - val_acc: 0.2500\n",
            "Epoch 27/300\n",
            "105/105 [==============================] - 0s 156us/step - loss: 1.4743 - acc: 0.4190 - val_loss: 1.5774 - val_acc: 0.2500\n",
            "Epoch 28/300\n",
            "105/105 [==============================] - 0s 182us/step - loss: 1.4683 - acc: 0.4095 - val_loss: 1.5742 - val_acc: 0.2500\n",
            "Epoch 29/300\n",
            "105/105 [==============================] - 0s 136us/step - loss: 1.4625 - acc: 0.4286 - val_loss: 1.5695 - val_acc: 0.2500\n",
            "Epoch 30/300\n",
            "105/105 [==============================] - 0s 195us/step - loss: 1.4562 - acc: 0.4476 - val_loss: 1.5668 - val_acc: 0.1667\n",
            "Epoch 31/300\n",
            "105/105 [==============================] - 0s 147us/step - loss: 1.4493 - acc: 0.4571 - val_loss: 1.5644 - val_acc: 0.1667\n",
            "Epoch 32/300\n",
            "105/105 [==============================] - 0s 147us/step - loss: 1.4431 - acc: 0.4571 - val_loss: 1.5616 - val_acc: 0.1667\n",
            "Epoch 33/300\n",
            "105/105 [==============================] - 0s 136us/step - loss: 1.4369 - acc: 0.4857 - val_loss: 1.5594 - val_acc: 0.1667\n",
            "Epoch 34/300\n",
            "105/105 [==============================] - 0s 152us/step - loss: 1.4297 - acc: 0.4857 - val_loss: 1.5551 - val_acc: 0.1667\n",
            "Epoch 35/300\n",
            "105/105 [==============================] - 0s 191us/step - loss: 1.4233 - acc: 0.4857 - val_loss: 1.5517 - val_acc: 0.1667\n",
            "Epoch 36/300\n",
            "105/105 [==============================] - 0s 165us/step - loss: 1.4159 - acc: 0.4857 - val_loss: 1.5476 - val_acc: 0.1667\n",
            "Epoch 37/300\n",
            "105/105 [==============================] - 0s 135us/step - loss: 1.4081 - acc: 0.4857 - val_loss: 1.5457 - val_acc: 0.1667\n",
            "Epoch 38/300\n",
            "105/105 [==============================] - 0s 156us/step - loss: 1.4006 - acc: 0.4857 - val_loss: 1.5424 - val_acc: 0.1667\n",
            "Epoch 39/300\n",
            "105/105 [==============================] - 0s 235us/step - loss: 1.3930 - acc: 0.4952 - val_loss: 1.5399 - val_acc: 0.1667\n",
            "Epoch 40/300\n",
            "105/105 [==============================] - 0s 225us/step - loss: 1.3856 - acc: 0.5048 - val_loss: 1.5357 - val_acc: 0.1667\n",
            "Epoch 41/300\n",
            "105/105 [==============================] - 0s 196us/step - loss: 1.3769 - acc: 0.5048 - val_loss: 1.5308 - val_acc: 0.1667\n",
            "Epoch 42/300\n",
            "105/105 [==============================] - 0s 162us/step - loss: 1.3692 - acc: 0.5143 - val_loss: 1.5269 - val_acc: 0.1667\n",
            "Epoch 43/300\n",
            "105/105 [==============================] - 0s 218us/step - loss: 1.3610 - acc: 0.5143 - val_loss: 1.5251 - val_acc: 0.1667\n",
            "Epoch 44/300\n",
            "105/105 [==============================] - 0s 166us/step - loss: 1.3532 - acc: 0.5143 - val_loss: 1.5226 - val_acc: 0.1667\n",
            "Epoch 45/300\n",
            "105/105 [==============================] - 0s 145us/step - loss: 1.3448 - acc: 0.5143 - val_loss: 1.5189 - val_acc: 0.1667\n",
            "Epoch 46/300\n",
            "105/105 [==============================] - 0s 148us/step - loss: 1.3367 - acc: 0.5238 - val_loss: 1.5152 - val_acc: 0.1667\n",
            "Epoch 47/300\n",
            "105/105 [==============================] - 0s 174us/step - loss: 1.3280 - acc: 0.5238 - val_loss: 1.5134 - val_acc: 0.1667\n",
            "Epoch 48/300\n",
            "105/105 [==============================] - 0s 115us/step - loss: 1.3189 - acc: 0.5143 - val_loss: 1.5094 - val_acc: 0.1667\n",
            "Epoch 49/300\n",
            "105/105 [==============================] - 0s 117us/step - loss: 1.3110 - acc: 0.5143 - val_loss: 1.5068 - val_acc: 0.1667\n",
            "Epoch 50/300\n",
            "105/105 [==============================] - 0s 151us/step - loss: 1.3012 - acc: 0.5238 - val_loss: 1.5028 - val_acc: 0.1667\n",
            "Epoch 51/300\n",
            "105/105 [==============================] - 0s 146us/step - loss: 1.2927 - acc: 0.5238 - val_loss: 1.5008 - val_acc: 0.1667\n",
            "Epoch 52/300\n",
            "105/105 [==============================] - 0s 124us/step - loss: 1.2848 - acc: 0.5238 - val_loss: 1.4957 - val_acc: 0.1667\n",
            "Epoch 53/300\n",
            "105/105 [==============================] - 0s 150us/step - loss: 1.2762 - acc: 0.5238 - val_loss: 1.4929 - val_acc: 0.1667\n",
            "Epoch 54/300\n",
            "105/105 [==============================] - 0s 166us/step - loss: 1.2676 - acc: 0.5238 - val_loss: 1.4910 - val_acc: 0.1667\n",
            "Epoch 55/300\n",
            "105/105 [==============================] - 0s 119us/step - loss: 1.2594 - acc: 0.5238 - val_loss: 1.4843 - val_acc: 0.1667\n",
            "Epoch 56/300\n",
            "105/105 [==============================] - 0s 164us/step - loss: 1.2508 - acc: 0.5143 - val_loss: 1.4789 - val_acc: 0.1667\n",
            "Epoch 57/300\n",
            "105/105 [==============================] - 0s 186us/step - loss: 1.2426 - acc: 0.5238 - val_loss: 1.4756 - val_acc: 0.1667\n",
            "Epoch 58/300\n",
            "105/105 [==============================] - 0s 135us/step - loss: 1.2341 - acc: 0.5238 - val_loss: 1.4735 - val_acc: 0.1667\n",
            "Epoch 59/300\n",
            "105/105 [==============================] - 0s 139us/step - loss: 1.2249 - acc: 0.5238 - val_loss: 1.4693 - val_acc: 0.1667\n",
            "Epoch 60/300\n",
            "105/105 [==============================] - 0s 123us/step - loss: 1.2164 - acc: 0.5333 - val_loss: 1.4666 - val_acc: 0.1667\n",
            "Epoch 61/300\n",
            "105/105 [==============================] - 0s 138us/step - loss: 1.2086 - acc: 0.5333 - val_loss: 1.4587 - val_acc: 0.2500\n",
            "Epoch 62/300\n",
            "105/105 [==============================] - 0s 150us/step - loss: 1.1996 - acc: 0.5429 - val_loss: 1.4583 - val_acc: 0.1667\n",
            "Epoch 63/300\n",
            "105/105 [==============================] - 0s 135us/step - loss: 1.1926 - acc: 0.5333 - val_loss: 1.4520 - val_acc: 0.2500\n",
            "Epoch 64/300\n",
            "105/105 [==============================] - 0s 126us/step - loss: 1.1832 - acc: 0.5333 - val_loss: 1.4497 - val_acc: 0.2500\n",
            "Epoch 65/300\n",
            "105/105 [==============================] - 0s 118us/step - loss: 1.1746 - acc: 0.5238 - val_loss: 1.4455 - val_acc: 0.2500\n",
            "Epoch 66/300\n",
            "105/105 [==============================] - 0s 132us/step - loss: 1.1665 - acc: 0.5333 - val_loss: 1.4405 - val_acc: 0.2500\n",
            "Epoch 67/300\n",
            "105/105 [==============================] - 0s 149us/step - loss: 1.1585 - acc: 0.5333 - val_loss: 1.4366 - val_acc: 0.2500\n",
            "Epoch 68/300\n",
            "105/105 [==============================] - 0s 142us/step - loss: 1.1510 - acc: 0.5429 - val_loss: 1.4347 - val_acc: 0.2500\n",
            "Epoch 69/300\n",
            "105/105 [==============================] - 0s 148us/step - loss: 1.1433 - acc: 0.5524 - val_loss: 1.4300 - val_acc: 0.2500\n",
            "Epoch 70/300\n",
            "105/105 [==============================] - 0s 165us/step - loss: 1.1367 - acc: 0.5429 - val_loss: 1.4269 - val_acc: 0.2500\n",
            "Epoch 71/300\n",
            "105/105 [==============================] - 0s 149us/step - loss: 1.1294 - acc: 0.5524 - val_loss: 1.4216 - val_acc: 0.2500\n",
            "Epoch 72/300\n",
            "105/105 [==============================] - 0s 122us/step - loss: 1.1224 - acc: 0.5429 - val_loss: 1.4175 - val_acc: 0.2500\n",
            "Epoch 73/300\n",
            "105/105 [==============================] - 0s 125us/step - loss: 1.1157 - acc: 0.5429 - val_loss: 1.4132 - val_acc: 0.2500\n",
            "Epoch 74/300\n",
            "105/105 [==============================] - 0s 117us/step - loss: 1.1075 - acc: 0.5429 - val_loss: 1.4097 - val_acc: 0.2500\n",
            "Epoch 75/300\n",
            "105/105 [==============================] - 0s 155us/step - loss: 1.1015 - acc: 0.5429 - val_loss: 1.4133 - val_acc: 0.2500\n",
            "Epoch 76/300\n",
            "105/105 [==============================] - 0s 123us/step - loss: 1.0953 - acc: 0.5524 - val_loss: 1.4127 - val_acc: 0.2500\n",
            "Epoch 77/300\n",
            "105/105 [==============================] - 0s 126us/step - loss: 1.0880 - acc: 0.5524 - val_loss: 1.4112 - val_acc: 0.2500\n",
            "Epoch 78/300\n",
            "105/105 [==============================] - 0s 130us/step - loss: 1.0824 - acc: 0.5524 - val_loss: 1.4074 - val_acc: 0.2500\n",
            "Epoch 79/300\n",
            "105/105 [==============================] - 0s 142us/step - loss: 1.0770 - acc: 0.5524 - val_loss: 1.4063 - val_acc: 0.2500\n",
            "Epoch 80/300\n",
            "105/105 [==============================] - 0s 132us/step - loss: 1.0719 - acc: 0.5524 - val_loss: 1.4042 - val_acc: 0.2500\n",
            "Epoch 81/300\n",
            "105/105 [==============================] - 0s 132us/step - loss: 1.0649 - acc: 0.5524 - val_loss: 1.4007 - val_acc: 0.2500\n",
            "Epoch 82/300\n",
            "105/105 [==============================] - 0s 141us/step - loss: 1.0589 - acc: 0.5524 - val_loss: 1.3924 - val_acc: 0.2500\n",
            "Epoch 83/300\n",
            "105/105 [==============================] - 0s 130us/step - loss: 1.0536 - acc: 0.5524 - val_loss: 1.3888 - val_acc: 0.2500\n",
            "Epoch 84/300\n",
            "105/105 [==============================] - 0s 115us/step - loss: 1.0489 - acc: 0.5524 - val_loss: 1.3875 - val_acc: 0.2500\n",
            "Epoch 85/300\n",
            "105/105 [==============================] - 0s 125us/step - loss: 1.0421 - acc: 0.5524 - val_loss: 1.3841 - val_acc: 0.2500\n",
            "Epoch 86/300\n",
            "105/105 [==============================] - 0s 151us/step - loss: 1.0370 - acc: 0.5619 - val_loss: 1.3854 - val_acc: 0.2500\n",
            "Epoch 87/300\n",
            "105/105 [==============================] - 0s 187us/step - loss: 1.0318 - acc: 0.5619 - val_loss: 1.3858 - val_acc: 0.2500\n",
            "Epoch 88/300\n",
            "105/105 [==============================] - 0s 145us/step - loss: 1.0274 - acc: 0.5714 - val_loss: 1.3868 - val_acc: 0.2500\n",
            "Epoch 89/300\n",
            "105/105 [==============================] - 0s 172us/step - loss: 1.0235 - acc: 0.5714 - val_loss: 1.3812 - val_acc: 0.2500\n",
            "Epoch 90/300\n",
            "105/105 [==============================] - 0s 147us/step - loss: 1.0180 - acc: 0.5619 - val_loss: 1.3784 - val_acc: 0.2500\n",
            "Epoch 91/300\n",
            "105/105 [==============================] - 0s 123us/step - loss: 1.0129 - acc: 0.5714 - val_loss: 1.3718 - val_acc: 0.2500\n",
            "Epoch 92/300\n",
            "105/105 [==============================] - 0s 129us/step - loss: 1.0091 - acc: 0.5714 - val_loss: 1.3672 - val_acc: 0.2500\n",
            "Epoch 93/300\n",
            "105/105 [==============================] - 0s 130us/step - loss: 1.0034 - acc: 0.5714 - val_loss: 1.3676 - val_acc: 0.2500\n",
            "Epoch 94/300\n",
            "105/105 [==============================] - 0s 118us/step - loss: 0.9995 - acc: 0.5714 - val_loss: 1.3609 - val_acc: 0.2500\n",
            "Epoch 95/300\n",
            "105/105 [==============================] - 0s 144us/step - loss: 0.9946 - acc: 0.5714 - val_loss: 1.3607 - val_acc: 0.2500\n",
            "Epoch 96/300\n",
            "105/105 [==============================] - 0s 132us/step - loss: 0.9907 - acc: 0.5714 - val_loss: 1.3532 - val_acc: 0.2500\n",
            "Epoch 97/300\n",
            "105/105 [==============================] - 0s 135us/step - loss: 0.9868 - acc: 0.5714 - val_loss: 1.3437 - val_acc: 0.2500\n",
            "Epoch 98/300\n",
            "105/105 [==============================] - 0s 143us/step - loss: 0.9819 - acc: 0.5714 - val_loss: 1.3424 - val_acc: 0.2500\n",
            "Epoch 99/300\n",
            "105/105 [==============================] - 0s 150us/step - loss: 0.9776 - acc: 0.5714 - val_loss: 1.3363 - val_acc: 0.2500\n",
            "Epoch 100/300\n",
            "105/105 [==============================] - 0s 128us/step - loss: 0.9738 - acc: 0.5714 - val_loss: 1.3368 - val_acc: 0.2500\n",
            "Epoch 101/300\n",
            "105/105 [==============================] - 0s 127us/step - loss: 0.9697 - acc: 0.5714 - val_loss: 1.3291 - val_acc: 0.2500\n",
            "Epoch 102/300\n",
            "105/105 [==============================] - 0s 187us/step - loss: 0.9663 - acc: 0.5810 - val_loss: 1.3286 - val_acc: 0.2500\n",
            "Epoch 103/300\n",
            "105/105 [==============================] - 0s 127us/step - loss: 0.9619 - acc: 0.5714 - val_loss: 1.3186 - val_acc: 0.2500\n",
            "Epoch 104/300\n",
            "105/105 [==============================] - 0s 123us/step - loss: 0.9577 - acc: 0.5810 - val_loss: 1.3150 - val_acc: 0.2500\n",
            "Epoch 105/300\n",
            "105/105 [==============================] - 0s 142us/step - loss: 0.9551 - acc: 0.5810 - val_loss: 1.3163 - val_acc: 0.2500\n",
            "Epoch 106/300\n",
            "105/105 [==============================] - 0s 138us/step - loss: 0.9520 - acc: 0.5810 - val_loss: 1.3156 - val_acc: 0.2500\n",
            "Epoch 107/300\n",
            "105/105 [==============================] - 0s 137us/step - loss: 0.9468 - acc: 0.5810 - val_loss: 1.3124 - val_acc: 0.2500\n",
            "Epoch 108/300\n",
            "105/105 [==============================] - 0s 196us/step - loss: 0.9443 - acc: 0.5905 - val_loss: 1.3045 - val_acc: 0.2500\n",
            "Epoch 109/300\n",
            "105/105 [==============================] - 0s 149us/step - loss: 0.9397 - acc: 0.6000 - val_loss: 1.2984 - val_acc: 0.2500\n",
            "Epoch 110/300\n",
            "105/105 [==============================] - 0s 162us/step - loss: 0.9375 - acc: 0.6000 - val_loss: 1.2970 - val_acc: 0.2500\n",
            "Epoch 111/300\n",
            "105/105 [==============================] - 0s 135us/step - loss: 0.9333 - acc: 0.6095 - val_loss: 1.2978 - val_acc: 0.2500\n",
            "Epoch 112/300\n",
            "105/105 [==============================] - 0s 130us/step - loss: 0.9303 - acc: 0.6000 - val_loss: 1.2958 - val_acc: 0.2500\n",
            "Epoch 113/300\n",
            "105/105 [==============================] - 0s 129us/step - loss: 0.9277 - acc: 0.6095 - val_loss: 1.2863 - val_acc: 0.2500\n",
            "Epoch 114/300\n",
            "105/105 [==============================] - 0s 120us/step - loss: 0.9233 - acc: 0.6095 - val_loss: 1.2797 - val_acc: 0.2500\n",
            "Epoch 115/300\n",
            "105/105 [==============================] - 0s 216us/step - loss: 0.9213 - acc: 0.6190 - val_loss: 1.2722 - val_acc: 0.2500\n",
            "Epoch 116/300\n",
            "105/105 [==============================] - 0s 173us/step - loss: 0.9175 - acc: 0.6190 - val_loss: 1.2704 - val_acc: 0.2500\n",
            "Epoch 117/300\n",
            "105/105 [==============================] - 0s 163us/step - loss: 0.9142 - acc: 0.6190 - val_loss: 1.2621 - val_acc: 0.2500\n",
            "Epoch 118/300\n",
            "105/105 [==============================] - 0s 183us/step - loss: 0.9106 - acc: 0.6381 - val_loss: 1.2592 - val_acc: 0.2500\n",
            "Epoch 119/300\n",
            "105/105 [==============================] - 0s 147us/step - loss: 0.9074 - acc: 0.6381 - val_loss: 1.2530 - val_acc: 0.2500\n",
            "Epoch 120/300\n",
            "105/105 [==============================] - 0s 136us/step - loss: 0.9046 - acc: 0.6381 - val_loss: 1.2508 - val_acc: 0.2500\n",
            "Epoch 121/300\n",
            "105/105 [==============================] - 0s 135us/step - loss: 0.9025 - acc: 0.6476 - val_loss: 1.2491 - val_acc: 0.2500\n",
            "Epoch 122/300\n",
            "105/105 [==============================] - 0s 156us/step - loss: 0.8993 - acc: 0.6476 - val_loss: 1.2521 - val_acc: 0.2500\n",
            "Epoch 123/300\n",
            "105/105 [==============================] - 0s 121us/step - loss: 0.8963 - acc: 0.6476 - val_loss: 1.2506 - val_acc: 0.2500\n",
            "Epoch 124/300\n",
            "105/105 [==============================] - 0s 179us/step - loss: 0.8934 - acc: 0.6476 - val_loss: 1.2493 - val_acc: 0.2500\n",
            "Epoch 125/300\n",
            "105/105 [==============================] - 0s 145us/step - loss: 0.8899 - acc: 0.6571 - val_loss: 1.2493 - val_acc: 0.2500\n",
            "Epoch 126/300\n",
            "105/105 [==============================] - 0s 124us/step - loss: 0.8872 - acc: 0.6476 - val_loss: 1.2453 - val_acc: 0.2500\n",
            "Epoch 127/300\n",
            "105/105 [==============================] - 0s 147us/step - loss: 0.8864 - acc: 0.6476 - val_loss: 1.2390 - val_acc: 0.2500\n",
            "Epoch 128/300\n",
            "105/105 [==============================] - 0s 159us/step - loss: 0.8828 - acc: 0.6571 - val_loss: 1.2350 - val_acc: 0.2500\n",
            "Epoch 129/300\n",
            "105/105 [==============================] - 0s 198us/step - loss: 0.8805 - acc: 0.6571 - val_loss: 1.2323 - val_acc: 0.2500\n",
            "Epoch 130/300\n",
            "105/105 [==============================] - 0s 187us/step - loss: 0.8774 - acc: 0.6571 - val_loss: 1.2333 - val_acc: 0.2500\n",
            "Epoch 131/300\n",
            "105/105 [==============================] - 0s 137us/step - loss: 0.8753 - acc: 0.6571 - val_loss: 1.2283 - val_acc: 0.2500\n",
            "Epoch 132/300\n",
            "105/105 [==============================] - 0s 126us/step - loss: 0.8724 - acc: 0.6476 - val_loss: 1.2178 - val_acc: 0.2500\n",
            "Epoch 133/300\n",
            "105/105 [==============================] - 0s 118us/step - loss: 0.8706 - acc: 0.6762 - val_loss: 1.2139 - val_acc: 0.2500\n",
            "Epoch 134/300\n",
            "105/105 [==============================] - 0s 116us/step - loss: 0.8684 - acc: 0.6762 - val_loss: 1.2189 - val_acc: 0.2500\n",
            "Epoch 135/300\n",
            "105/105 [==============================] - 0s 111us/step - loss: 0.8650 - acc: 0.6857 - val_loss: 1.2264 - val_acc: 0.2500\n",
            "Epoch 136/300\n",
            "105/105 [==============================] - 0s 137us/step - loss: 0.8628 - acc: 0.6762 - val_loss: 1.2276 - val_acc: 0.2500\n",
            "Epoch 137/300\n",
            "105/105 [==============================] - 0s 125us/step - loss: 0.8607 - acc: 0.6762 - val_loss: 1.2167 - val_acc: 0.2500\n",
            "Epoch 138/300\n",
            "105/105 [==============================] - 0s 117us/step - loss: 0.8577 - acc: 0.6952 - val_loss: 1.2150 - val_acc: 0.2500\n",
            "Epoch 139/300\n",
            "105/105 [==============================] - 0s 126us/step - loss: 0.8565 - acc: 0.6762 - val_loss: 1.2174 - val_acc: 0.3333\n",
            "Epoch 140/300\n",
            "105/105 [==============================] - 0s 153us/step - loss: 0.8545 - acc: 0.7048 - val_loss: 1.2114 - val_acc: 0.4167\n",
            "Epoch 141/300\n",
            "105/105 [==============================] - 0s 202us/step - loss: 0.8524 - acc: 0.6952 - val_loss: 1.2110 - val_acc: 0.4167\n",
            "Epoch 142/300\n",
            "105/105 [==============================] - 0s 160us/step - loss: 0.8505 - acc: 0.7048 - val_loss: 1.2138 - val_acc: 0.4167\n",
            "Epoch 143/300\n",
            "105/105 [==============================] - 0s 158us/step - loss: 0.8497 - acc: 0.6952 - val_loss: 1.2170 - val_acc: 0.4167\n",
            "Epoch 144/300\n",
            "105/105 [==============================] - 0s 158us/step - loss: 0.8469 - acc: 0.7048 - val_loss: 1.2140 - val_acc: 0.4167\n",
            "Epoch 145/300\n",
            "105/105 [==============================] - 0s 217us/step - loss: 0.8448 - acc: 0.6952 - val_loss: 1.2202 - val_acc: 0.4167\n",
            "Epoch 146/300\n",
            "105/105 [==============================] - 0s 154us/step - loss: 0.8445 - acc: 0.7048 - val_loss: 1.2183 - val_acc: 0.4167\n",
            "Epoch 147/300\n",
            "105/105 [==============================] - 0s 149us/step - loss: 0.8421 - acc: 0.7143 - val_loss: 1.2150 - val_acc: 0.4167\n",
            "Epoch 148/300\n",
            "105/105 [==============================] - 0s 119us/step - loss: 0.8396 - acc: 0.7143 - val_loss: 1.2100 - val_acc: 0.3333\n",
            "Epoch 149/300\n",
            "105/105 [==============================] - 0s 172us/step - loss: 0.8378 - acc: 0.7143 - val_loss: 1.2035 - val_acc: 0.3333\n",
            "Epoch 150/300\n",
            "105/105 [==============================] - 0s 133us/step - loss: 0.8358 - acc: 0.7143 - val_loss: 1.2021 - val_acc: 0.3333\n",
            "Epoch 151/300\n",
            "105/105 [==============================] - 0s 165us/step - loss: 0.8341 - acc: 0.7143 - val_loss: 1.2007 - val_acc: 0.3333\n",
            "Epoch 152/300\n",
            "105/105 [==============================] - 0s 127us/step - loss: 0.8324 - acc: 0.7048 - val_loss: 1.2063 - val_acc: 0.3333\n",
            "Epoch 153/300\n",
            "105/105 [==============================] - 0s 137us/step - loss: 0.8299 - acc: 0.7143 - val_loss: 1.2042 - val_acc: 0.3333\n",
            "Epoch 154/300\n",
            "105/105 [==============================] - 0s 140us/step - loss: 0.8282 - acc: 0.7143 - val_loss: 1.1997 - val_acc: 0.3333\n",
            "Epoch 155/300\n",
            "105/105 [==============================] - 0s 160us/step - loss: 0.8265 - acc: 0.7143 - val_loss: 1.1934 - val_acc: 0.3333\n",
            "Epoch 156/300\n",
            "105/105 [==============================] - 0s 177us/step - loss: 0.8256 - acc: 0.7143 - val_loss: 1.1827 - val_acc: 0.3333\n",
            "Epoch 157/300\n",
            "105/105 [==============================] - 0s 132us/step - loss: 0.8240 - acc: 0.7143 - val_loss: 1.1770 - val_acc: 0.3333\n",
            "Epoch 158/300\n",
            "105/105 [==============================] - 0s 139us/step - loss: 0.8222 - acc: 0.7048 - val_loss: 1.1824 - val_acc: 0.3333\n",
            "Epoch 159/300\n",
            "105/105 [==============================] - 0s 138us/step - loss: 0.8190 - acc: 0.7143 - val_loss: 1.1706 - val_acc: 0.3333\n",
            "Epoch 160/300\n",
            "105/105 [==============================] - 0s 172us/step - loss: 0.8183 - acc: 0.7238 - val_loss: 1.1679 - val_acc: 0.3333\n",
            "Epoch 161/300\n",
            "105/105 [==============================] - 0s 125us/step - loss: 0.8170 - acc: 0.7238 - val_loss: 1.1700 - val_acc: 0.3333\n",
            "Epoch 162/300\n",
            "105/105 [==============================] - 0s 140us/step - loss: 0.8153 - acc: 0.7238 - val_loss: 1.1682 - val_acc: 0.3333\n",
            "Epoch 163/300\n",
            "105/105 [==============================] - 0s 138us/step - loss: 0.8126 - acc: 0.7238 - val_loss: 1.1727 - val_acc: 0.3333\n",
            "Epoch 164/300\n",
            "105/105 [==============================] - 0s 189us/step - loss: 0.8117 - acc: 0.7238 - val_loss: 1.1696 - val_acc: 0.3333\n",
            "Epoch 165/300\n",
            "105/105 [==============================] - 0s 199us/step - loss: 0.8094 - acc: 0.7333 - val_loss: 1.1647 - val_acc: 0.3333\n",
            "Epoch 166/300\n",
            "105/105 [==============================] - 0s 174us/step - loss: 0.8076 - acc: 0.7238 - val_loss: 1.1580 - val_acc: 0.3333\n",
            "Epoch 167/300\n",
            "105/105 [==============================] - 0s 133us/step - loss: 0.8065 - acc: 0.7333 - val_loss: 1.1629 - val_acc: 0.3333\n",
            "Epoch 168/300\n",
            "105/105 [==============================] - 0s 167us/step - loss: 0.8049 - acc: 0.7333 - val_loss: 1.1645 - val_acc: 0.3333\n",
            "Epoch 169/300\n",
            "105/105 [==============================] - 0s 152us/step - loss: 0.8026 - acc: 0.7333 - val_loss: 1.1621 - val_acc: 0.3333\n",
            "Epoch 170/300\n",
            "105/105 [==============================] - 0s 148us/step - loss: 0.7995 - acc: 0.7333 - val_loss: 1.1665 - val_acc: 0.3333\n",
            "Epoch 171/300\n",
            "105/105 [==============================] - 0s 131us/step - loss: 0.7998 - acc: 0.7333 - val_loss: 1.1660 - val_acc: 0.3333\n",
            "Epoch 172/300\n",
            "105/105 [==============================] - 0s 125us/step - loss: 0.7980 - acc: 0.7333 - val_loss: 1.1708 - val_acc: 0.3333\n",
            "Epoch 173/300\n",
            "105/105 [==============================] - 0s 157us/step - loss: 0.7957 - acc: 0.7333 - val_loss: 1.1599 - val_acc: 0.3333\n",
            "Epoch 174/300\n",
            "105/105 [==============================] - 0s 136us/step - loss: 0.7946 - acc: 0.7429 - val_loss: 1.1625 - val_acc: 0.3333\n",
            "Epoch 175/300\n",
            "105/105 [==============================] - 0s 116us/step - loss: 0.7926 - acc: 0.7429 - val_loss: 1.1567 - val_acc: 0.3333\n",
            "Epoch 176/300\n",
            "105/105 [==============================] - 0s 162us/step - loss: 0.7912 - acc: 0.7429 - val_loss: 1.1537 - val_acc: 0.3333\n",
            "Epoch 177/300\n",
            "105/105 [==============================] - 0s 154us/step - loss: 0.7907 - acc: 0.7333 - val_loss: 1.1484 - val_acc: 0.3333\n",
            "Epoch 178/300\n",
            "105/105 [==============================] - 0s 113us/step - loss: 0.7875 - acc: 0.7333 - val_loss: 1.1290 - val_acc: 0.3333\n",
            "Epoch 179/300\n",
            "105/105 [==============================] - 0s 131us/step - loss: 0.7860 - acc: 0.7333 - val_loss: 1.1371 - val_acc: 0.3333\n",
            "Epoch 180/300\n",
            "105/105 [==============================] - 0s 118us/step - loss: 0.7852 - acc: 0.7333 - val_loss: 1.1348 - val_acc: 0.3333\n",
            "Epoch 181/300\n",
            "105/105 [==============================] - 0s 127us/step - loss: 0.7833 - acc: 0.7333 - val_loss: 1.1233 - val_acc: 0.3333\n",
            "Epoch 182/300\n",
            "105/105 [==============================] - 0s 133us/step - loss: 0.7821 - acc: 0.7333 - val_loss: 1.1192 - val_acc: 0.3333\n",
            "Epoch 183/300\n",
            "105/105 [==============================] - 0s 147us/step - loss: 0.7809 - acc: 0.7333 - val_loss: 1.1181 - val_acc: 0.3333\n",
            "Epoch 184/300\n",
            "105/105 [==============================] - 0s 110us/step - loss: 0.7797 - acc: 0.7333 - val_loss: 1.1274 - val_acc: 0.3333\n",
            "Epoch 185/300\n",
            "105/105 [==============================] - 0s 111us/step - loss: 0.7800 - acc: 0.7333 - val_loss: 1.1105 - val_acc: 0.3333\n",
            "Epoch 186/300\n",
            "105/105 [==============================] - 0s 112us/step - loss: 0.7778 - acc: 0.7333 - val_loss: 1.0997 - val_acc: 0.3333\n",
            "Epoch 187/300\n",
            "105/105 [==============================] - 0s 129us/step - loss: 0.7750 - acc: 0.7333 - val_loss: 1.0958 - val_acc: 0.3333\n",
            "Epoch 188/300\n",
            "105/105 [==============================] - 0s 132us/step - loss: 0.7739 - acc: 0.7238 - val_loss: 1.0944 - val_acc: 0.3333\n",
            "Epoch 189/300\n",
            "105/105 [==============================] - 0s 131us/step - loss: 0.7740 - acc: 0.7333 - val_loss: 1.0976 - val_acc: 0.3333\n",
            "Epoch 190/300\n",
            "105/105 [==============================] - 0s 139us/step - loss: 0.7717 - acc: 0.7238 - val_loss: 1.0985 - val_acc: 0.3333\n",
            "Epoch 191/300\n",
            "105/105 [==============================] - 0s 138us/step - loss: 0.7713 - acc: 0.7238 - val_loss: 1.1033 - val_acc: 0.3333\n",
            "Epoch 192/300\n",
            "105/105 [==============================] - 0s 155us/step - loss: 0.7685 - acc: 0.7333 - val_loss: 1.0959 - val_acc: 0.3333\n",
            "Epoch 193/300\n",
            "105/105 [==============================] - 0s 194us/step - loss: 0.7673 - acc: 0.7238 - val_loss: 1.1003 - val_acc: 0.3333\n",
            "Epoch 194/300\n",
            "105/105 [==============================] - 0s 135us/step - loss: 0.7655 - acc: 0.7333 - val_loss: 1.0957 - val_acc: 0.4167\n",
            "Epoch 195/300\n",
            "105/105 [==============================] - 0s 142us/step - loss: 0.7648 - acc: 0.7048 - val_loss: 1.0979 - val_acc: 0.4167\n",
            "Epoch 196/300\n",
            "105/105 [==============================] - 0s 104us/step - loss: 0.7633 - acc: 0.7143 - val_loss: 1.0938 - val_acc: 0.3333\n",
            "Epoch 197/300\n",
            "105/105 [==============================] - 0s 136us/step - loss: 0.7613 - acc: 0.7333 - val_loss: 1.0972 - val_acc: 0.3333\n",
            "Epoch 198/300\n",
            "105/105 [==============================] - 0s 124us/step - loss: 0.7597 - acc: 0.7333 - val_loss: 1.0941 - val_acc: 0.3333\n",
            "Epoch 199/300\n",
            "105/105 [==============================] - 0s 113us/step - loss: 0.7582 - acc: 0.7238 - val_loss: 1.1080 - val_acc: 0.3333\n",
            "Epoch 200/300\n",
            "105/105 [==============================] - 0s 131us/step - loss: 0.7589 - acc: 0.7238 - val_loss: 1.1123 - val_acc: 0.3333\n",
            "Epoch 201/300\n",
            "105/105 [==============================] - 0s 137us/step - loss: 0.7560 - acc: 0.7333 - val_loss: 1.1181 - val_acc: 0.3333\n",
            "Epoch 202/300\n",
            "105/105 [==============================] - 0s 183us/step - loss: 0.7556 - acc: 0.7333 - val_loss: 1.1155 - val_acc: 0.3333\n",
            "Epoch 203/300\n",
            "105/105 [==============================] - 0s 122us/step - loss: 0.7534 - acc: 0.7238 - val_loss: 1.1209 - val_acc: 0.3333\n",
            "Epoch 204/300\n",
            "105/105 [==============================] - 0s 119us/step - loss: 0.7523 - acc: 0.7238 - val_loss: 1.1243 - val_acc: 0.3333\n",
            "Epoch 205/300\n",
            "105/105 [==============================] - 0s 111us/step - loss: 0.7518 - acc: 0.7238 - val_loss: 1.1308 - val_acc: 0.2500\n",
            "Epoch 206/300\n",
            "105/105 [==============================] - 0s 104us/step - loss: 0.7513 - acc: 0.7238 - val_loss: 1.1160 - val_acc: 0.2500\n",
            "Epoch 207/300\n",
            "105/105 [==============================] - 0s 134us/step - loss: 0.7493 - acc: 0.7143 - val_loss: 1.1210 - val_acc: 0.3333\n",
            "Epoch 208/300\n",
            "105/105 [==============================] - 0s 130us/step - loss: 0.7483 - acc: 0.7238 - val_loss: 1.1171 - val_acc: 0.3333\n",
            "Epoch 209/300\n",
            "105/105 [==============================] - 0s 115us/step - loss: 0.7464 - acc: 0.7238 - val_loss: 1.1134 - val_acc: 0.3333\n",
            "Epoch 210/300\n",
            "105/105 [==============================] - 0s 128us/step - loss: 0.7445 - acc: 0.7238 - val_loss: 1.1095 - val_acc: 0.3333\n",
            "Epoch 211/300\n",
            "105/105 [==============================] - 0s 133us/step - loss: 0.7431 - acc: 0.7333 - val_loss: 1.0968 - val_acc: 0.3333\n",
            "Epoch 212/300\n",
            "105/105 [==============================] - 0s 145us/step - loss: 0.7423 - acc: 0.7238 - val_loss: 1.0992 - val_acc: 0.3333\n",
            "Epoch 213/300\n",
            "105/105 [==============================] - 0s 140us/step - loss: 0.7409 - acc: 0.7238 - val_loss: 1.0953 - val_acc: 0.4167\n",
            "Epoch 214/300\n",
            "105/105 [==============================] - 0s 146us/step - loss: 0.7410 - acc: 0.7143 - val_loss: 1.1066 - val_acc: 0.3333\n",
            "Epoch 215/300\n",
            "105/105 [==============================] - 0s 117us/step - loss: 0.7406 - acc: 0.7333 - val_loss: 1.1088 - val_acc: 0.3333\n",
            "Epoch 216/300\n",
            "105/105 [==============================] - 0s 141us/step - loss: 0.7379 - acc: 0.7238 - val_loss: 1.1044 - val_acc: 0.3333\n",
            "Epoch 217/300\n",
            "105/105 [==============================] - 0s 121us/step - loss: 0.7391 - acc: 0.7238 - val_loss: 1.0844 - val_acc: 0.4167\n",
            "Epoch 218/300\n",
            "105/105 [==============================] - 0s 172us/step - loss: 0.7358 - acc: 0.7238 - val_loss: 1.1028 - val_acc: 0.3333\n",
            "Epoch 219/300\n",
            "105/105 [==============================] - 0s 156us/step - loss: 0.7330 - acc: 0.7333 - val_loss: 1.1002 - val_acc: 0.3333\n",
            "Epoch 220/300\n",
            "105/105 [==============================] - 0s 131us/step - loss: 0.7351 - acc: 0.7429 - val_loss: 1.0954 - val_acc: 0.4167\n",
            "Epoch 221/300\n",
            "105/105 [==============================] - 0s 118us/step - loss: 0.7325 - acc: 0.7333 - val_loss: 1.0907 - val_acc: 0.4167\n",
            "Epoch 222/300\n",
            "105/105 [==============================] - 0s 170us/step - loss: 0.7316 - acc: 0.7429 - val_loss: 1.0924 - val_acc: 0.4167\n",
            "Epoch 223/300\n",
            "105/105 [==============================] - 0s 125us/step - loss: 0.7304 - acc: 0.7238 - val_loss: 1.1089 - val_acc: 0.3333\n",
            "Epoch 224/300\n",
            "105/105 [==============================] - 0s 149us/step - loss: 0.7277 - acc: 0.7333 - val_loss: 1.0914 - val_acc: 0.4167\n",
            "Epoch 225/300\n",
            "105/105 [==============================] - 0s 142us/step - loss: 0.7275 - acc: 0.7238 - val_loss: 1.1039 - val_acc: 0.3333\n",
            "Epoch 226/300\n",
            "105/105 [==============================] - 0s 161us/step - loss: 0.7271 - acc: 0.7048 - val_loss: 1.1085 - val_acc: 0.4167\n",
            "Epoch 227/300\n",
            "105/105 [==============================] - 0s 138us/step - loss: 0.7248 - acc: 0.7238 - val_loss: 1.1152 - val_acc: 0.4167\n",
            "Epoch 228/300\n",
            "105/105 [==============================] - 0s 124us/step - loss: 0.7251 - acc: 0.7333 - val_loss: 1.0985 - val_acc: 0.4167\n",
            "Epoch 229/300\n",
            "105/105 [==============================] - 0s 129us/step - loss: 0.7245 - acc: 0.7429 - val_loss: 1.0893 - val_acc: 0.4167\n",
            "Epoch 230/300\n",
            "105/105 [==============================] - 0s 138us/step - loss: 0.7217 - acc: 0.7238 - val_loss: 1.0949 - val_acc: 0.4167\n",
            "Epoch 231/300\n",
            "105/105 [==============================] - 0s 165us/step - loss: 0.7221 - acc: 0.7143 - val_loss: 1.0986 - val_acc: 0.4167\n",
            "Epoch 232/300\n",
            "105/105 [==============================] - 0s 128us/step - loss: 0.7203 - acc: 0.7143 - val_loss: 1.0947 - val_acc: 0.4167\n",
            "Epoch 233/300\n",
            "105/105 [==============================] - 0s 137us/step - loss: 0.7193 - acc: 0.7143 - val_loss: 1.0990 - val_acc: 0.4167\n",
            "Epoch 234/300\n",
            "105/105 [==============================] - 0s 116us/step - loss: 0.7185 - acc: 0.7333 - val_loss: 1.1163 - val_acc: 0.3333\n",
            "Epoch 235/300\n",
            "105/105 [==============================] - 0s 171us/step - loss: 0.7176 - acc: 0.7333 - val_loss: 1.1038 - val_acc: 0.4167\n",
            "Epoch 236/300\n",
            "105/105 [==============================] - 0s 150us/step - loss: 0.7169 - acc: 0.7333 - val_loss: 1.0933 - val_acc: 0.4167\n",
            "Epoch 237/300\n",
            "105/105 [==============================] - 0s 227us/step - loss: 0.7163 - acc: 0.7333 - val_loss: 1.0831 - val_acc: 0.4167\n",
            "Epoch 238/300\n",
            "105/105 [==============================] - 0s 133us/step - loss: 0.7160 - acc: 0.7429 - val_loss: 1.0742 - val_acc: 0.4167\n",
            "Epoch 239/300\n",
            "105/105 [==============================] - 0s 136us/step - loss: 0.7117 - acc: 0.7238 - val_loss: 1.0809 - val_acc: 0.4167\n",
            "Epoch 240/300\n",
            "105/105 [==============================] - 0s 141us/step - loss: 0.7109 - acc: 0.7429 - val_loss: 1.0813 - val_acc: 0.4167\n",
            "Epoch 241/300\n",
            "105/105 [==============================] - 0s 135us/step - loss: 0.7099 - acc: 0.7429 - val_loss: 1.0865 - val_acc: 0.4167\n",
            "Epoch 242/300\n",
            "105/105 [==============================] - 0s 163us/step - loss: 0.7090 - acc: 0.7429 - val_loss: 1.0954 - val_acc: 0.4167\n",
            "Epoch 243/300\n",
            "105/105 [==============================] - 0s 138us/step - loss: 0.7085 - acc: 0.7333 - val_loss: 1.0921 - val_acc: 0.4167\n",
            "Epoch 244/300\n",
            "105/105 [==============================] - 0s 133us/step - loss: 0.7077 - acc: 0.7333 - val_loss: 1.0932 - val_acc: 0.4167\n",
            "Epoch 245/300\n",
            "105/105 [==============================] - 0s 107us/step - loss: 0.7065 - acc: 0.7238 - val_loss: 1.0894 - val_acc: 0.4167\n",
            "Epoch 246/300\n",
            "105/105 [==============================] - 0s 114us/step - loss: 0.7039 - acc: 0.7238 - val_loss: 1.0872 - val_acc: 0.4167\n",
            "Epoch 247/300\n",
            "105/105 [==============================] - 0s 122us/step - loss: 0.7039 - acc: 0.7238 - val_loss: 1.0974 - val_acc: 0.4167\n",
            "Epoch 248/300\n",
            "105/105 [==============================] - 0s 145us/step - loss: 0.7029 - acc: 0.7238 - val_loss: 1.1037 - val_acc: 0.4167\n",
            "Epoch 249/300\n",
            "105/105 [==============================] - 0s 134us/step - loss: 0.7018 - acc: 0.7333 - val_loss: 1.1093 - val_acc: 0.4167\n",
            "Epoch 250/300\n",
            "105/105 [==============================] - 0s 123us/step - loss: 0.7013 - acc: 0.7333 - val_loss: 1.1094 - val_acc: 0.4167\n",
            "Epoch 251/300\n",
            "105/105 [==============================] - 0s 135us/step - loss: 0.7011 - acc: 0.7238 - val_loss: 1.1192 - val_acc: 0.4167\n",
            "Epoch 252/300\n",
            "105/105 [==============================] - 0s 139us/step - loss: 0.7012 - acc: 0.7333 - val_loss: 1.1196 - val_acc: 0.4167\n",
            "Epoch 253/300\n",
            "105/105 [==============================] - 0s 132us/step - loss: 0.6974 - acc: 0.7333 - val_loss: 1.1098 - val_acc: 0.4167\n",
            "Epoch 254/300\n",
            "105/105 [==============================] - 0s 145us/step - loss: 0.6969 - acc: 0.7333 - val_loss: 1.1003 - val_acc: 0.4167\n",
            "Epoch 255/300\n",
            "105/105 [==============================] - 0s 123us/step - loss: 0.6953 - acc: 0.7333 - val_loss: 1.0902 - val_acc: 0.4167\n",
            "Epoch 256/300\n",
            "105/105 [==============================] - 0s 161us/step - loss: 0.6950 - acc: 0.7333 - val_loss: 1.0794 - val_acc: 0.4167\n",
            "Epoch 257/300\n",
            "105/105 [==============================] - 0s 123us/step - loss: 0.6931 - acc: 0.7429 - val_loss: 1.0804 - val_acc: 0.4167\n",
            "Epoch 258/300\n",
            "105/105 [==============================] - 0s 114us/step - loss: 0.6933 - acc: 0.7333 - val_loss: 1.1023 - val_acc: 0.4167\n",
            "Epoch 259/300\n",
            "105/105 [==============================] - 0s 122us/step - loss: 0.6944 - acc: 0.7524 - val_loss: 1.1129 - val_acc: 0.4167\n",
            "Epoch 260/300\n",
            "105/105 [==============================] - 0s 116us/step - loss: 0.6947 - acc: 0.7429 - val_loss: 1.0921 - val_acc: 0.4167\n",
            "Epoch 261/300\n",
            "105/105 [==============================] - 0s 119us/step - loss: 0.6898 - acc: 0.7429 - val_loss: 1.0917 - val_acc: 0.4167\n",
            "Epoch 262/300\n",
            "105/105 [==============================] - 0s 111us/step - loss: 0.6877 - acc: 0.7333 - val_loss: 1.0991 - val_acc: 0.4167\n",
            "Epoch 263/300\n",
            "105/105 [==============================] - 0s 135us/step - loss: 0.6871 - acc: 0.7333 - val_loss: 1.1001 - val_acc: 0.4167\n",
            "Epoch 264/300\n",
            "105/105 [==============================] - 0s 174us/step - loss: 0.6870 - acc: 0.7333 - val_loss: 1.1097 - val_acc: 0.4167\n",
            "Epoch 265/300\n",
            "105/105 [==============================] - 0s 128us/step - loss: 0.6879 - acc: 0.7429 - val_loss: 1.1064 - val_acc: 0.3333\n",
            "Epoch 266/300\n",
            "105/105 [==============================] - 0s 140us/step - loss: 0.6867 - acc: 0.7333 - val_loss: 1.0994 - val_acc: 0.4167\n",
            "Epoch 267/300\n",
            "105/105 [==============================] - 0s 126us/step - loss: 0.6838 - acc: 0.7333 - val_loss: 1.0915 - val_acc: 0.4167\n",
            "Epoch 268/300\n",
            "105/105 [==============================] - 0s 152us/step - loss: 0.6847 - acc: 0.7333 - val_loss: 1.0704 - val_acc: 0.4167\n",
            "Epoch 269/300\n",
            "105/105 [==============================] - 0s 116us/step - loss: 0.6829 - acc: 0.7238 - val_loss: 1.0920 - val_acc: 0.4167\n",
            "Epoch 270/300\n",
            "105/105 [==============================] - 0s 126us/step - loss: 0.6817 - acc: 0.7524 - val_loss: 1.0820 - val_acc: 0.4167\n",
            "Epoch 271/300\n",
            "105/105 [==============================] - 0s 120us/step - loss: 0.6801 - acc: 0.7619 - val_loss: 1.0936 - val_acc: 0.4167\n",
            "Epoch 272/300\n",
            "105/105 [==============================] - 0s 115us/step - loss: 0.6809 - acc: 0.7429 - val_loss: 1.0824 - val_acc: 0.4167\n",
            "Epoch 273/300\n",
            "105/105 [==============================] - 0s 108us/step - loss: 0.6785 - acc: 0.7524 - val_loss: 1.0807 - val_acc: 0.4167\n",
            "Epoch 274/300\n",
            "105/105 [==============================] - 0s 125us/step - loss: 0.6775 - acc: 0.7429 - val_loss: 1.0857 - val_acc: 0.4167\n",
            "Epoch 275/300\n",
            "105/105 [==============================] - 0s 110us/step - loss: 0.6778 - acc: 0.7333 - val_loss: 1.0812 - val_acc: 0.4167\n",
            "Epoch 276/300\n",
            "105/105 [==============================] - 0s 127us/step - loss: 0.6751 - acc: 0.7429 - val_loss: 1.0828 - val_acc: 0.3333\n",
            "Epoch 277/300\n",
            "105/105 [==============================] - 0s 142us/step - loss: 0.6761 - acc: 0.7429 - val_loss: 1.0676 - val_acc: 0.4167\n",
            "Epoch 278/300\n",
            "105/105 [==============================] - 0s 158us/step - loss: 0.6739 - acc: 0.7429 - val_loss: 1.0711 - val_acc: 0.4167\n",
            "Epoch 279/300\n",
            "105/105 [==============================] - 0s 136us/step - loss: 0.6730 - acc: 0.7429 - val_loss: 1.0895 - val_acc: 0.3333\n",
            "Epoch 280/300\n",
            "105/105 [==============================] - 0s 130us/step - loss: 0.6744 - acc: 0.7429 - val_loss: 1.0758 - val_acc: 0.3333\n",
            "Epoch 281/300\n",
            "105/105 [==============================] - 0s 117us/step - loss: 0.6740 - acc: 0.7429 - val_loss: 1.0797 - val_acc: 0.3333\n",
            "Epoch 282/300\n",
            "105/105 [==============================] - 0s 110us/step - loss: 0.6739 - acc: 0.7524 - val_loss: 1.0910 - val_acc: 0.3333\n",
            "Epoch 283/300\n",
            "105/105 [==============================] - 0s 163us/step - loss: 0.6711 - acc: 0.7333 - val_loss: 1.0639 - val_acc: 0.4167\n",
            "Epoch 284/300\n",
            "105/105 [==============================] - 0s 133us/step - loss: 0.6679 - acc: 0.7429 - val_loss: 1.0588 - val_acc: 0.4167\n",
            "Epoch 285/300\n",
            "105/105 [==============================] - 0s 132us/step - loss: 0.6713 - acc: 0.7429 - val_loss: 1.0683 - val_acc: 0.4167\n",
            "Epoch 286/300\n",
            "105/105 [==============================] - 0s 125us/step - loss: 0.6720 - acc: 0.7429 - val_loss: 1.0621 - val_acc: 0.4167\n",
            "Epoch 287/300\n",
            "105/105 [==============================] - 0s 134us/step - loss: 0.6668 - acc: 0.7429 - val_loss: 1.0572 - val_acc: 0.4167\n",
            "Epoch 288/300\n",
            "105/105 [==============================] - 0s 146us/step - loss: 0.6698 - acc: 0.7429 - val_loss: 1.0724 - val_acc: 0.4167\n",
            "Epoch 289/300\n",
            "105/105 [==============================] - 0s 130us/step - loss: 0.6654 - acc: 0.7429 - val_loss: 1.0740 - val_acc: 0.4167\n",
            "Epoch 290/300\n",
            "105/105 [==============================] - 0s 156us/step - loss: 0.6667 - acc: 0.7524 - val_loss: 1.0800 - val_acc: 0.4167\n",
            "Epoch 291/300\n",
            "105/105 [==============================] - 0s 119us/step - loss: 0.6671 - acc: 0.7619 - val_loss: 1.0893 - val_acc: 0.4167\n",
            "Epoch 292/300\n",
            "105/105 [==============================] - 0s 113us/step - loss: 0.6629 - acc: 0.7429 - val_loss: 1.0778 - val_acc: 0.4167\n",
            "Epoch 293/300\n",
            "105/105 [==============================] - 0s 145us/step - loss: 0.6636 - acc: 0.7429 - val_loss: 1.0830 - val_acc: 0.4167\n",
            "Epoch 294/300\n",
            "105/105 [==============================] - 0s 197us/step - loss: 0.6616 - acc: 0.7524 - val_loss: 1.0991 - val_acc: 0.4167\n",
            "Epoch 295/300\n",
            "105/105 [==============================] - 0s 154us/step - loss: 0.6612 - acc: 0.7524 - val_loss: 1.0776 - val_acc: 0.4167\n",
            "Epoch 296/300\n",
            "105/105 [==============================] - 0s 162us/step - loss: 0.6608 - acc: 0.7429 - val_loss: 1.0895 - val_acc: 0.4167\n",
            "Epoch 297/300\n",
            "105/105 [==============================] - 0s 169us/step - loss: 0.6599 - acc: 0.7429 - val_loss: 1.0917 - val_acc: 0.4167\n",
            "Epoch 298/300\n",
            "105/105 [==============================] - 0s 173us/step - loss: 0.6592 - acc: 0.7429 - val_loss: 1.0832 - val_acc: 0.4167\n",
            "Epoch 299/300\n",
            "105/105 [==============================] - 0s 117us/step - loss: 0.6571 - acc: 0.7524 - val_loss: 1.0832 - val_acc: 0.4167\n",
            "Epoch 300/300\n",
            "105/105 [==============================] - 0s 123us/step - loss: 0.6583 - acc: 0.7429 - val_loss: 1.0837 - val_acc: 0.4167\n"
          ],
          "name": "stdout"
        },
        {
          "output_type": "execute_result",
          "data": {
            "text/plain": [
              "<keras.callbacks.History at 0x7f016f8e4d30>"
            ]
          },
          "metadata": {
            "tags": []
          },
          "execution_count": 23
        }
      ]
    },
    {
      "cell_type": "code",
      "metadata": {
        "id": "k3ypcT9MOscx",
        "colab_type": "code",
        "outputId": "15def87c-2f60-4024-fc6d-ca510a8a8869",
        "colab": {
          "base_uri": "https://localhost:8080/",
          "height": 154
        }
      },
      "source": [
        "# using predict_classes() for multi-class data to return predicted class index.\n",
        "\n",
        "print(model.predict_classes(prediction_input_preprocessor.transform(X_test)))\n",
        "\n",
        "prediction_index=model.predict_classes(prediction_input_preprocessor.transform(X_test))\n",
        "\n",
        "#Now lets run some code to get keras to return the label rather than the index...\n",
        "\n",
        "# get labels from one hot encoded y_train data\n",
        "labels=pd.get_dummies(y_train).columns\n",
        "\n",
        "# Function to use to return label from column index location\n",
        "def index_to_label(labels,index_n): \n",
        "    return labels[index_n]\n",
        "    \n",
        "# Example: return label at predicted index location 1\n",
        "index_to_label(labels,1)\n",
        "\n",
        "# Iterate through all predicted indices using map method\n",
        "\n",
        "predicted_labels=list(map(lambda x: labels[x], prediction_index))\n",
        "print(predicted_labels)"
      ],
      "execution_count": 24,
      "outputs": [
        {
          "output_type": "stream",
          "text": [
            "[1 1 0 1 4 1 4 0 1 2 1 2 3 2 1 1 4 4 2 0 4 3 1 3 1 4 0 1 1 4 1 2 1 4 4 4 4\n",
            " 2 1]\n",
            "['High', 'High', 'Average', 'High', 'Very Low', 'High', 'Very Low', 'Average', 'High', 'Low', 'High', 'Low', 'Very High', 'Low', 'High', 'High', 'Very Low', 'Very Low', 'Low', 'Average', 'Very Low', 'Very High', 'High', 'Very High', 'High', 'Very Low', 'Average', 'High', 'High', 'Very Low', 'High', 'Low', 'High', 'Very Low', 'Very Low', 'Very Low', 'Very Low', 'Low', 'High']\n"
          ],
          "name": "stdout"
        },
        {
          "output_type": "stream",
          "text": [
            "/usr/local/lib/python3.6/dist-packages/sklearn/compose/_column_transformer.py:430: FutureWarning: Given feature/column names or counts do not match the ones for the data given during fit. This will fail from v0.24.\n",
            "  FutureWarning)\n",
            "/usr/local/lib/python3.6/dist-packages/sklearn/compose/_column_transformer.py:430: FutureWarning: Given feature/column names or counts do not match the ones for the data given during fit. This will fail from v0.24.\n",
            "  FutureWarning)\n"
          ],
          "name": "stderr"
        }
      ]
    },
    {
      "cell_type": "code",
      "metadata": {
        "id": "oGYx96beUh7Q",
        "colab_type": "code",
        "outputId": "0c9313e8-fb4c-435b-f0b3-b26ee7b19d92",
        "colab": {
          "base_uri": "https://localhost:8080/",
          "height": 77
        }
      },
      "source": [
        "model_eval_metrics( y_test,predicted_labels,classification=\"TRUE\")"
      ],
      "execution_count": 25,
      "outputs": [
        {
          "output_type": "execute_result",
          "data": {
            "text/html": [
              "<div>\n",
              "<style scoped>\n",
              "    .dataframe tbody tr th:only-of-type {\n",
              "        vertical-align: middle;\n",
              "    }\n",
              "\n",
              "    .dataframe tbody tr th {\n",
              "        vertical-align: top;\n",
              "    }\n",
              "\n",
              "    .dataframe thead th {\n",
              "        text-align: right;\n",
              "    }\n",
              "</style>\n",
              "<table border=\"1\" class=\"dataframe\">\n",
              "  <thead>\n",
              "    <tr style=\"text-align: right;\">\n",
              "      <th></th>\n",
              "      <th>accuracy</th>\n",
              "      <th>f1_score</th>\n",
              "      <th>precision</th>\n",
              "      <th>recall</th>\n",
              "      <th>mse</th>\n",
              "      <th>rmse</th>\n",
              "      <th>mae</th>\n",
              "      <th>r2</th>\n",
              "    </tr>\n",
              "  </thead>\n",
              "  <tbody>\n",
              "    <tr>\n",
              "      <th>0</th>\n",
              "      <td>0.384615</td>\n",
              "      <td>0.386535</td>\n",
              "      <td>0.484545</td>\n",
              "      <td>0.425</td>\n",
              "      <td>0</td>\n",
              "      <td>0</td>\n",
              "      <td>0</td>\n",
              "      <td>0</td>\n",
              "    </tr>\n",
              "  </tbody>\n",
              "</table>\n",
              "</div>"
            ],
            "text/plain": [
              "   accuracy  f1_score  precision  recall  mse  rmse  mae  r2\n",
              "0  0.384615  0.386535   0.484545   0.425    0     0    0   0"
            ]
          },
          "metadata": {
            "tags": []
          },
          "execution_count": 25
        }
      ]
    },
    {
      "cell_type": "markdown",
      "metadata": {
        "id": "P00O1494VVUa",
        "colab_type": "text"
      },
      "source": [
        "#Comments about the models:\n",
        "The accuracy of the 3 models is low (less than 0.5), it means that all these models have little prediction power.\n",
        "The model with the best prediction power is the Neural Network, however, the result is very similar to the random forest. In the random forest classifier even using Gridsearch the final result is still low.\n",
        "\n",
        "One way that these models could be improved is transforming the categorical variable of happiness into an ordinal variable because even when we don't know the distance between the levels of happiness we know that very happy is closer to happy than very unhappy."
      ]
    },
    {
      "cell_type": "code",
      "metadata": {
        "id": "ybWrIf8jcb7H",
        "colab_type": "code",
        "colab": {}
      },
      "source": [
        ""
      ],
      "execution_count": 0,
      "outputs": []
    }
  ]
}
