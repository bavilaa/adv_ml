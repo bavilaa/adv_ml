{
  "nbformat": 4,
  "nbformat_minor": 0,
  "metadata": {
    "colab": {
      "name": "BBC News Category Classification Mini-Hackathon.ipynb",
      "provenance": [],
      "collapsed_sections": [],
      "include_colab_link": true
    },
    "kernelspec": {
      "name": "python3",
      "display_name": "Python 3"
    },
    "accelerator": "GPU"
  },
  "cells": [
    {
      "cell_type": "markdown",
      "metadata": {
        "id": "view-in-github",
        "colab_type": "text"
      },
      "source": [
        "<a href=\"https://colab.research.google.com/github/bavilaa/adv_ml/blob/master/BBC_News_Category_Classification_Mini_Hackathon.ipynb\" target=\"_parent\"><img src=\"https://colab.research.google.com/assets/colab-badge.svg\" alt=\"Open In Colab\"/></a>"
      ]
    },
    {
      "cell_type": "markdown",
      "metadata": {
        "id": "ftx3zZt8OHvd",
        "colab_type": "text"
      },
      "source": [
        "#Assignment 3: Category Classification\n",
        "#author : Bruno Avila (ba2592)\n",
        "\n",
        "\n"
      ]
    },
    {
      "cell_type": "code",
      "metadata": {
        "id": "YoqSwgStNzT4",
        "colab_type": "code",
        "outputId": "417b0325-a14c-4591-96d4-aabc0ec1d767",
        "colab": {
          "base_uri": "https://localhost:8080/",
          "height": 34
        }
      },
      "source": [
        "#Loding libraries\n",
        "import pandas as pd\n",
        "# Set up training and test data\n",
        "from sklearn.model_selection import train_test_split\n",
        "from sklearn.metrics import accuracy_score\n",
        "from sklearn.metrics import f1_score\n",
        "from sklearn.metrics import precision_score\n",
        "from sklearn.metrics import recall_score\n",
        "from sklearn.metrics import roc_auc_score\n",
        "from sklearn.metrics import mean_squared_error\n",
        "from sklearn.metrics import r2_score\n",
        "from sklearn.metrics import mean_absolute_error\n",
        "from math import sqrt\n",
        "import numpy as np\n",
        "\n",
        "#Keras\n",
        "\n",
        "from keras.models import Sequential\n",
        "from keras import layers\n",
        "from keras.optimizers import RMSprop\n"
      ],
      "execution_count": 1,
      "outputs": [
        {
          "output_type": "stream",
          "text": [
            "Using TensorFlow backend.\n"
          ],
          "name": "stderr"
        }
      ]
    },
    {
      "cell_type": "code",
      "metadata": {
        "id": "7SzKqsmSvkwt",
        "colab_type": "code",
        "colab": {}
      },
      "source": [
        ""
      ],
      "execution_count": 0,
      "outputs": []
    },
    {
      "cell_type": "code",
      "metadata": {
        "id": "NWcYgSqHvktw",
        "colab_type": "code",
        "colab": {}
      },
      "source": [
        ""
      ],
      "execution_count": 0,
      "outputs": []
    },
    {
      "cell_type": "code",
      "metadata": {
        "id": "Kyn-oPyUeVgG",
        "colab_type": "code",
        "colab": {}
      },
      "source": [
        "#Dataframes to store the results:\n",
        "r2 = pd.DataFrame(columns=['model','loss','accuaracy'])\n",
        "f1 = pd.DataFrame(columns=['model','accuracy','f1_score','precision','recall'])"
      ],
      "execution_count": 0,
      "outputs": []
    },
    {
      "cell_type": "code",
      "metadata": {
        "id": "m_OLcBL93_K9",
        "colab_type": "code",
        "colab": {}
      },
      "source": [
        "#### FUNCTIONS #####\n",
        "#Simple function to transform results from keras into one hot encoding:\n",
        "\n",
        "def predict_one_h(model,features):\n",
        "  predicted_values = model.predict(features)\n",
        "  return (predicted_values == predicted_values.max(axis=1,keepdims=1)).astype(float)\n",
        "\n",
        "#model_eval_metrics( y_test,predicted_labels,classification=\"TRUE\")\n",
        "\n",
        "# First function to evaluate the models:\n",
        "\n",
        "def model_eval_metrics(y_true, y_pred,model_name=\"\",classification=\"TRUE\"):\n",
        "     if classification==\"TRUE\":\n",
        "        accuracy_eval = accuracy_score(y_true, y_pred)\n",
        "        f1_score_eval = f1_score(y_true, y_pred,average=\"macro\",zero_division=0)\n",
        "        precision_eval = precision_score(y_true, y_pred,average=\"macro\",zero_division=0)\n",
        "        recall_eval = recall_score(y_true, y_pred,average=\"macro\",zero_division=0)\n",
        "        #mse_eval = 0\n",
        "        #rmse_eval = 0\n",
        "        #mae_eval = 0\n",
        "        #r2_eval = 0\n",
        "        metricdata = {'model': [model_name],'accuracy': [accuracy_eval], 'f1_score': [f1_score_eval], 'precision': [precision_eval], 'recall': [recall_eval]}\n",
        "                      #'mse': [mse_eval], 'rmse': [rmse_eval], 'mae': [mae_eval], 'r2': [r2_eval]}\n",
        "        finalmetricdata = pd.DataFrame.from_dict(metricdata)\n",
        "     else:\n",
        "        accuracy_eval = 0\n",
        "        f1_score_eval = 0\n",
        "        precision_eval = 0\n",
        "        recall_eval = 0\n",
        "        mse_eval = mean_squared_error(y_true, y_pred)\n",
        "        rmse_eval = sqrt(mean_squared_error(y_true, y_pred))\n",
        "        mae_eval = mean_absolute_error(y_true, y_pred)\n",
        "        r2_eval = r2_score(y_true, y_pred)\n",
        "        metricdata = {'accuracy': [accuracy_eval], 'f1_score': [f1_score_eval], 'precision': [precision_eval], 'recall': [recall_eval], 'mse': [mse_eval], 'rmse': [rmse_eval], 'mae': [mae_eval], 'r2': [r2_eval]}\n",
        "        finalmetricdata = pd.DataFrame.from_dict(metricdata)\n",
        "     return finalmetricdata\n",
        "\n",
        "def evaluate_r2 (model,x_test,y_test,model_name=\"\"):\n",
        "  ev = model.evaluate(x_test,y_test)\n",
        "  metricdata = {'model': [model_name],'loss': ev[0], 'accuaracy': ev[1]}\n",
        "                      #'mse': [mse_eval], 'rmse': [rmse_eval], 'mae': [mae_eval], 'r2': [r2_eval]}\n",
        "\n",
        "  finalmetricdata = pd.DataFrame.from_dict(metricdata)\n",
        "  return finalmetricdata\n",
        "\n"
      ],
      "execution_count": 0,
      "outputs": []
    },
    {
      "cell_type": "code",
      "metadata": {
        "id": "qe2ASSXm9pnB",
        "colab_type": "code",
        "colab": {}
      },
      "source": [
        "#Loading data\n",
        "df = pd.read_csv(\"https://storage.googleapis.com/dataset-uploader/bbc/bbc-text.csv\")"
      ],
      "execution_count": 0,
      "outputs": []
    },
    {
      "cell_type": "markdown",
      "metadata": {
        "id": "NhWeGmKkMgn2",
        "colab_type": "text"
      },
      "source": [
        "## Data Description"
      ]
    },
    {
      "cell_type": "code",
      "metadata": {
        "id": "r6tcLvjNSP3T",
        "colab_type": "code",
        "colab": {}
      },
      "source": [
        "#Sampling\n",
        "X = df[['text']]\n",
        "y = df[['category']]\n",
        "X_train, X_test, y_train, y_test = train_test_split(X, y, random_state=42)"
      ],
      "execution_count": 0,
      "outputs": []
    },
    {
      "cell_type": "code",
      "metadata": {
        "id": "Ov_eHkEZ9spa",
        "colab_type": "code",
        "outputId": "85511d4e-b819-49e6-834e-d888416c90a3",
        "colab": {
          "base_uri": "https://localhost:8080/",
          "height": 166
        }
      },
      "source": [
        "#Simple Description\n",
        "y_train.describe()\n"
      ],
      "execution_count": 6,
      "outputs": [
        {
          "output_type": "execute_result",
          "data": {
            "text/html": [
              "<div>\n",
              "<style scoped>\n",
              "    .dataframe tbody tr th:only-of-type {\n",
              "        vertical-align: middle;\n",
              "    }\n",
              "\n",
              "    .dataframe tbody tr th {\n",
              "        vertical-align: top;\n",
              "    }\n",
              "\n",
              "    .dataframe thead th {\n",
              "        text-align: right;\n",
              "    }\n",
              "</style>\n",
              "<table border=\"1\" class=\"dataframe\">\n",
              "  <thead>\n",
              "    <tr style=\"text-align: right;\">\n",
              "      <th></th>\n",
              "      <th>category</th>\n",
              "    </tr>\n",
              "  </thead>\n",
              "  <tbody>\n",
              "    <tr>\n",
              "      <th>count</th>\n",
              "      <td>1668</td>\n",
              "    </tr>\n",
              "    <tr>\n",
              "      <th>unique</th>\n",
              "      <td>5</td>\n",
              "    </tr>\n",
              "    <tr>\n",
              "      <th>top</th>\n",
              "      <td>sport</td>\n",
              "    </tr>\n",
              "    <tr>\n",
              "      <th>freq</th>\n",
              "      <td>387</td>\n",
              "    </tr>\n",
              "  </tbody>\n",
              "</table>\n",
              "</div>"
            ],
            "text/plain": [
              "       category\n",
              "count      1668\n",
              "unique        5\n",
              "top       sport\n",
              "freq        387"
            ]
          },
          "metadata": {
            "tags": []
          },
          "execution_count": 6
        }
      ]
    },
    {
      "cell_type": "code",
      "metadata": {
        "id": "JqWjgEoeMzkQ",
        "colab_type": "code",
        "outputId": "abd2431d-1d68-4c05-f97c-d48feeb3f226",
        "colab": {
          "base_uri": "https://localhost:8080/",
          "height": 118
        }
      },
      "source": [
        "y_train.category.value_counts(normalize=True)*100"
      ],
      "execution_count": 7,
      "outputs": [
        {
          "output_type": "execute_result",
          "data": {
            "text/plain": [
              "sport            23.201439\n",
              "business         22.422062\n",
              "politics         19.124700\n",
              "tech             17.865707\n",
              "entertainment    17.386091\n",
              "Name: category, dtype: float64"
            ]
          },
          "metadata": {
            "tags": []
          },
          "execution_count": 7
        }
      ]
    },
    {
      "cell_type": "markdown",
      "metadata": {
        "id": "pcTJdKoxXxtA",
        "colab_type": "text"
      },
      "source": [
        "#Data Preprocessing"
      ]
    },
    {
      "cell_type": "code",
      "metadata": {
        "id": "gHYA9VfbOvoI",
        "colab_type": "code",
        "outputId": "bf5ef6a4-4d33-4da2-a7c2-0642625998a6",
        "colab": {
          "base_uri": "https://localhost:8080/",
          "height": 34
        }
      },
      "source": [
        "#####\n",
        "\n",
        "# Tokenize the data into one hot vectors\n",
        "from keras.preprocessing.text import Tokenizer\n",
        "from keras.preprocessing.sequence import pad_sequences\n",
        "import numpy as np\n",
        "\n",
        "maxlen = 100  # We will cut reviews after 100 words\n",
        "training_samples = 200  # We will be training on 200 samples\n",
        "validation_samples = 10000  # We will be validating on 10000 samples\n",
        "max_words = 10000  # We will only consider the top 10,000 words in the dataset\n",
        "\n",
        "tokenizer = Tokenizer(num_words=max_words)\n",
        "tokenizer.fit_on_texts(X['text'].to_list()) #Transforing the column into a list and next apply the tokenizer\n",
        "sequences = tokenizer.texts_to_sequences(X['text'].to_list()) # converts words in each text to each word's numeric index in tokenizer dictionary.\n",
        "\n",
        "word_index = tokenizer.word_index\n",
        "print('Found %s unique tokens.' % len(word_index))"
      ],
      "execution_count": 8,
      "outputs": [
        {
          "output_type": "stream",
          "text": [
            "Found 29726 unique tokens.\n"
          ],
          "name": "stdout"
        }
      ]
    },
    {
      "cell_type": "code",
      "metadata": {
        "id": "ChcfivAoZ2wZ",
        "colab_type": "code",
        "colab": {}
      },
      "source": [
        "data = pad_sequences(sequences, maxlen=maxlen) #Transforms the array into a 2D array, max_len limit the number of words into a 100 by element (100 numbers)\n",
        "labels = np.asarray(pd.get_dummies(y))"
      ],
      "execution_count": 0,
      "outputs": []
    },
    {
      "cell_type": "code",
      "metadata": {
        "id": "-GoYWkffZ4Lc",
        "colab_type": "code",
        "outputId": "f4b9410f-109e-4b9d-c27a-4fe44d2a4d8e",
        "colab": {
          "base_uri": "https://localhost:8080/",
          "height": 50
        }
      },
      "source": [
        "#Checking shape:\n",
        "print (\"Data shape : \" + str(data.shape))\n",
        "print (\"Labels length: %s\" % len(data))"
      ],
      "execution_count": 10,
      "outputs": [
        {
          "output_type": "stream",
          "text": [
            "Data shape : (2225, 100)\n",
            "Labels length: 2225\n"
          ],
          "name": "stdout"
        }
      ]
    },
    {
      "cell_type": "code",
      "metadata": {
        "id": "-wEFIiTUh5Lb",
        "colab_type": "code",
        "colab": {}
      },
      "source": [
        "#Sampling\n",
        "x_train, x_test, y_train, y_test = train_test_split(data, labels, random_state=42)"
      ],
      "execution_count": 0,
      "outputs": []
    },
    {
      "cell_type": "markdown",
      "metadata": {
        "id": "FDpr1AAzk12U",
        "colab_type": "text"
      },
      "source": [
        "A. A model with an embedding layer and dense layers (but w/ no layers meant for sequential data)\n",
        "\n",
        "B. A model using an Embedding layer with Conv1d Layers\n",
        "\n",
        "C. A model using an Embedding layer with one sequential layer (LSTM or GRU)\n",
        "\n",
        "D. A model using an Embedding layer with stacked sequential layers (LSTM or GRU)\n",
        "\n",
        "E. A model using an Embedding layer with bidirectional sequential layers\n",
        "\n",
        "F. Now retrain your best model from C, D, and E using dropout (you may need to increase epochs!)."
      ]
    },
    {
      "cell_type": "markdown",
      "metadata": {
        "id": "Spi3QitBk18Z",
        "colab_type": "text"
      },
      "source": [
        ""
      ]
    },
    {
      "cell_type": "markdown",
      "metadata": {
        "id": "ZW4Iy1XOk2GG",
        "colab_type": "text"
      },
      "source": [
        ""
      ]
    },
    {
      "cell_type": "markdown",
      "metadata": {
        "id": "AbHSdb_Tk2Qe",
        "colab_type": "text"
      },
      "source": [
        ""
      ]
    },
    {
      "cell_type": "markdown",
      "metadata": {
        "id": "FXmrDLyMk2ml",
        "colab_type": "text"
      },
      "source": [
        "##A) A model with an embedding layer and dense layers (but w/ no layers meant for sequential data)"
      ]
    },
    {
      "cell_type": "code",
      "metadata": {
        "id": "myEn7qmAmHko",
        "colab_type": "code",
        "outputId": "a526544a-996e-46be-8ff1-cfae1ff40671",
        "colab": {
          "base_uri": "https://localhost:8080/",
          "height": 826
        }
      },
      "source": [
        "# Let's start with a model that ignores the sequential steps that make up each observation\n",
        "from keras.layers import Dense, Embedding\n",
        "from keras.models import Sequential\n",
        "from keras.layers import Flatten, Dense\n",
        "\n",
        "model = Sequential()\n",
        "# Specify the size of your vocabulary (i.e.-10,000 terms)\n",
        "# Specify the number of features you want to extract via fitting weights to your embedding matrix.\n",
        "# We also specify the maximum input length to our Embedding layer\n",
        "# so we can later flatten the embedded inputs \n",
        "model.add(Embedding(10000, 16, input_length=maxlen))\n",
        "# After the Embedding layer, \n",
        "# our activations have shape `(samples, maxlen, 8)`.\n",
        "\n",
        "# We flatten the 3D tensor of embeddings \n",
        "# into a 2D tensor of shape `(samples, maxlen * 8)`\n",
        "model.add(Flatten())\n",
        "\n",
        "# We add the classifier on top\n",
        "model.add(Dense(5, activation='softmax'))\n",
        "model.compile(optimizer='rmsprop', loss='categorical_crossentropy', metrics=['acc'])\n",
        "model.summary()\n",
        "\n",
        "history = model.fit(x_train, y_train,\n",
        "                    epochs=15,\n",
        "                    batch_size=32,\n",
        "                    validation_split=0.2)"
      ],
      "execution_count": 12,
      "outputs": [
        {
          "output_type": "stream",
          "text": [
            "Model: \"sequential_1\"\n",
            "_________________________________________________________________\n",
            "Layer (type)                 Output Shape              Param #   \n",
            "=================================================================\n",
            "embedding_1 (Embedding)      (None, 100, 16)           160000    \n",
            "_________________________________________________________________\n",
            "flatten_1 (Flatten)          (None, 1600)              0         \n",
            "_________________________________________________________________\n",
            "dense_1 (Dense)              (None, 5)                 8005      \n",
            "=================================================================\n",
            "Total params: 168,005\n",
            "Trainable params: 168,005\n",
            "Non-trainable params: 0\n",
            "_________________________________________________________________\n"
          ],
          "name": "stdout"
        },
        {
          "output_type": "stream",
          "text": [
            "/usr/local/lib/python3.6/dist-packages/tensorflow/python/framework/indexed_slices.py:434: UserWarning: Converting sparse IndexedSlices to a dense Tensor of unknown shape. This may consume a large amount of memory.\n",
            "  \"Converting sparse IndexedSlices to a dense Tensor of unknown shape. \"\n"
          ],
          "name": "stderr"
        },
        {
          "output_type": "stream",
          "text": [
            "Train on 1334 samples, validate on 334 samples\n",
            "Epoch 1/15\n",
            "1334/1334 [==============================] - 1s 409us/step - loss: 1.6023 - acc: 0.2541 - val_loss: 1.5913 - val_acc: 0.3263\n",
            "Epoch 2/15\n",
            "1334/1334 [==============================] - 0s 94us/step - loss: 1.5099 - acc: 0.7856 - val_loss: 1.5512 - val_acc: 0.5000\n",
            "Epoch 3/15\n",
            "1334/1334 [==============================] - 0s 91us/step - loss: 1.3688 - acc: 0.9355 - val_loss: 1.4553 - val_acc: 0.5928\n",
            "Epoch 4/15\n",
            "1334/1334 [==============================] - 0s 92us/step - loss: 1.1485 - acc: 0.9640 - val_loss: 1.2966 - val_acc: 0.6497\n",
            "Epoch 5/15\n",
            "1334/1334 [==============================] - 0s 96us/step - loss: 0.8834 - acc: 0.9700 - val_loss: 1.1190 - val_acc: 0.7036\n",
            "Epoch 6/15\n",
            "1334/1334 [==============================] - 0s 86us/step - loss: 0.6324 - acc: 0.9798 - val_loss: 0.9572 - val_acc: 0.7575\n",
            "Epoch 7/15\n",
            "1334/1334 [==============================] - 0s 89us/step - loss: 0.4305 - acc: 0.9858 - val_loss: 0.8263 - val_acc: 0.7964\n",
            "Epoch 8/15\n",
            "1334/1334 [==============================] - 0s 90us/step - loss: 0.2810 - acc: 0.9918 - val_loss: 0.7202 - val_acc: 0.8114\n",
            "Epoch 9/15\n",
            "1334/1334 [==============================] - 0s 89us/step - loss: 0.1767 - acc: 0.9940 - val_loss: 0.6329 - val_acc: 0.8413\n",
            "Epoch 10/15\n",
            "1334/1334 [==============================] - 0s 87us/step - loss: 0.1075 - acc: 0.9985 - val_loss: 0.5674 - val_acc: 0.8503\n",
            "Epoch 11/15\n",
            "1334/1334 [==============================] - 0s 97us/step - loss: 0.0629 - acc: 1.0000 - val_loss: 0.5156 - val_acc: 0.8623\n",
            "Epoch 12/15\n",
            "1334/1334 [==============================] - 0s 93us/step - loss: 0.0352 - acc: 1.0000 - val_loss: 0.4718 - val_acc: 0.8653\n",
            "Epoch 13/15\n",
            "1334/1334 [==============================] - 0s 98us/step - loss: 0.0190 - acc: 1.0000 - val_loss: 0.4420 - val_acc: 0.8743\n",
            "Epoch 14/15\n",
            "1334/1334 [==============================] - 0s 89us/step - loss: 0.0098 - acc: 1.0000 - val_loss: 0.4135 - val_acc: 0.8713\n",
            "Epoch 15/15\n",
            "1334/1334 [==============================] - 0s 93us/step - loss: 0.0049 - acc: 1.0000 - val_loss: 0.4002 - val_acc: 0.8772\n"
          ],
          "name": "stdout"
        }
      ]
    },
    {
      "cell_type": "code",
      "metadata": {
        "id": "Nb-ANaXymH-u",
        "colab_type": "code",
        "colab": {}
      },
      "source": [
        ""
      ],
      "execution_count": 0,
      "outputs": []
    },
    {
      "cell_type": "code",
      "metadata": {
        "id": "AtrBhnprL9T0",
        "colab_type": "code",
        "outputId": "3002a524-b1c1-4cdf-ab65-a4c7be8a2a6f",
        "colab": {
          "base_uri": "https://localhost:8080/",
          "height": 94
        }
      },
      "source": [
        "y_predicted = predict_one_h(model,x_test)\n",
        "model_name = \"Embedding and dense\"\n",
        "meval = model_eval_metrics(y_test,y_predicted, model_name)\n",
        "f1 = f1.append(meval)\n",
        "meval_r2 = evaluate_r2(model,x_test,y_test,model_name)\n",
        "r2 = r2.append(meval_r2)\n",
        "##\n",
        "meval\n"
      ],
      "execution_count": 13,
      "outputs": [
        {
          "output_type": "stream",
          "text": [
            "557/557 [==============================] - 0s 53us/step\n"
          ],
          "name": "stdout"
        },
        {
          "output_type": "execute_result",
          "data": {
            "text/html": [
              "<div>\n",
              "<style scoped>\n",
              "    .dataframe tbody tr th:only-of-type {\n",
              "        vertical-align: middle;\n",
              "    }\n",
              "\n",
              "    .dataframe tbody tr th {\n",
              "        vertical-align: top;\n",
              "    }\n",
              "\n",
              "    .dataframe thead th {\n",
              "        text-align: right;\n",
              "    }\n",
              "</style>\n",
              "<table border=\"1\" class=\"dataframe\">\n",
              "  <thead>\n",
              "    <tr style=\"text-align: right;\">\n",
              "      <th></th>\n",
              "      <th>model</th>\n",
              "      <th>accuracy</th>\n",
              "      <th>f1_score</th>\n",
              "      <th>precision</th>\n",
              "      <th>recall</th>\n",
              "    </tr>\n",
              "  </thead>\n",
              "  <tbody>\n",
              "    <tr>\n",
              "      <th>0</th>\n",
              "      <td>Embedding and dense</td>\n",
              "      <td>0.824057</td>\n",
              "      <td>0.820624</td>\n",
              "      <td>0.830079</td>\n",
              "      <td>0.818516</td>\n",
              "    </tr>\n",
              "  </tbody>\n",
              "</table>\n",
              "</div>"
            ],
            "text/plain": [
              "                 model  accuracy  f1_score  precision    recall\n",
              "0  Embedding and dense  0.824057  0.820624   0.830079  0.818516"
            ]
          },
          "metadata": {
            "tags": []
          },
          "execution_count": 13
        }
      ]
    },
    {
      "cell_type": "code",
      "metadata": {
        "id": "mycN1W_HSq-f",
        "colab_type": "code",
        "colab": {}
      },
      "source": [
        ""
      ],
      "execution_count": 0,
      "outputs": []
    },
    {
      "cell_type": "markdown",
      "metadata": {
        "id": "ge6ARsNAk2as",
        "colab_type": "text"
      },
      "source": [
        "## 2.  A model using Conv1d Layers"
      ]
    },
    {
      "cell_type": "code",
      "metadata": {
        "id": "iya0kZ1QSyiY",
        "colab_type": "code",
        "outputId": "0f48e45b-422b-4706-f4ac-5ed9b56e0cdb",
        "colab": {
          "base_uri": "https://localhost:8080/",
          "height": 927
        }
      },
      "source": [
        "model = Sequential()\n",
        "model.add(Embedding(10000, 16, input_length=maxlen))\n",
        "model.add(layers.Conv1D(32, 7, activation='relu')) \n",
        "model.add(layers.MaxPooling1D(5)) #\n",
        "model.add(layers.Conv1D(32, 7, activation='relu'))\n",
        "model.add(layers.GlobalMaxPooling1D())\n",
        "\n",
        "model.add(layers.Dense(5,activation='softmax'))\n",
        "\n",
        "\n",
        "model.summary()\n",
        "\n",
        "model.compile(optimizer=RMSprop(lr=1e-4),\n",
        "              loss='categorical_crossentropy',\n",
        "              metrics=['acc'])\n",
        "history = model.fit(x_train, y_train,\n",
        "                    epochs=15,\n",
        "                    batch_size=16,\n",
        "                    validation_split=0.2)"
      ],
      "execution_count": 14,
      "outputs": [
        {
          "output_type": "stream",
          "text": [
            "Model: \"sequential_2\"\n",
            "_________________________________________________________________\n",
            "Layer (type)                 Output Shape              Param #   \n",
            "=================================================================\n",
            "embedding_2 (Embedding)      (None, 100, 16)           160000    \n",
            "_________________________________________________________________\n",
            "conv1d_1 (Conv1D)            (None, 94, 32)            3616      \n",
            "_________________________________________________________________\n",
            "max_pooling1d_1 (MaxPooling1 (None, 18, 32)            0         \n",
            "_________________________________________________________________\n",
            "conv1d_2 (Conv1D)            (None, 12, 32)            7200      \n",
            "_________________________________________________________________\n",
            "global_max_pooling1d_1 (Glob (None, 32)                0         \n",
            "_________________________________________________________________\n",
            "dense_2 (Dense)              (None, 5)                 165       \n",
            "=================================================================\n",
            "Total params: 170,981\n",
            "Trainable params: 170,981\n",
            "Non-trainable params: 0\n",
            "_________________________________________________________________\n"
          ],
          "name": "stdout"
        },
        {
          "output_type": "stream",
          "text": [
            "/usr/local/lib/python3.6/dist-packages/tensorflow/python/framework/indexed_slices.py:434: UserWarning: Converting sparse IndexedSlices to a dense Tensor of unknown shape. This may consume a large amount of memory.\n",
            "  \"Converting sparse IndexedSlices to a dense Tensor of unknown shape. \"\n"
          ],
          "name": "stderr"
        },
        {
          "output_type": "stream",
          "text": [
            "Train on 1334 samples, validate on 334 samples\n",
            "Epoch 1/15\n",
            "1334/1334 [==============================] - 2s 2ms/step - loss: 1.6084 - acc: 0.2189 - val_loss: 1.6071 - val_acc: 0.2066\n",
            "Epoch 2/15\n",
            "1334/1334 [==============================] - 0s 250us/step - loss: 1.6020 - acc: 0.2586 - val_loss: 1.6046 - val_acc: 0.1886\n",
            "Epoch 3/15\n",
            "1334/1334 [==============================] - 0s 254us/step - loss: 1.5971 - acc: 0.3081 - val_loss: 1.6021 - val_acc: 0.2006\n",
            "Epoch 4/15\n",
            "1334/1334 [==============================] - 0s 247us/step - loss: 1.5926 - acc: 0.3418 - val_loss: 1.6009 - val_acc: 0.2305\n",
            "Epoch 5/15\n",
            "1334/1334 [==============================] - 0s 251us/step - loss: 1.5886 - acc: 0.3103 - val_loss: 1.5994 - val_acc: 0.2335\n",
            "Epoch 6/15\n",
            "1334/1334 [==============================] - 0s 252us/step - loss: 1.5844 - acc: 0.3388 - val_loss: 1.5984 - val_acc: 0.2395\n",
            "Epoch 7/15\n",
            "1334/1334 [==============================] - 0s 262us/step - loss: 1.5800 - acc: 0.3621 - val_loss: 1.5971 - val_acc: 0.2395\n",
            "Epoch 8/15\n",
            "1334/1334 [==============================] - 0s 261us/step - loss: 1.5759 - acc: 0.3426 - val_loss: 1.5958 - val_acc: 0.2485\n",
            "Epoch 9/15\n",
            "1334/1334 [==============================] - 0s 264us/step - loss: 1.5712 - acc: 0.3823 - val_loss: 1.5943 - val_acc: 0.2485\n",
            "Epoch 10/15\n",
            "1334/1334 [==============================] - 0s 249us/step - loss: 1.5666 - acc: 0.3501 - val_loss: 1.5925 - val_acc: 0.2515\n",
            "Epoch 11/15\n",
            "1334/1334 [==============================] - 0s 243us/step - loss: 1.5616 - acc: 0.3313 - val_loss: 1.5910 - val_acc: 0.2754\n",
            "Epoch 12/15\n",
            "1334/1334 [==============================] - 0s 254us/step - loss: 1.5562 - acc: 0.3831 - val_loss: 1.5889 - val_acc: 0.2874\n",
            "Epoch 13/15\n",
            "1334/1334 [==============================] - 0s 249us/step - loss: 1.5501 - acc: 0.3973 - val_loss: 1.5859 - val_acc: 0.3084\n",
            "Epoch 14/15\n",
            "1334/1334 [==============================] - 0s 255us/step - loss: 1.5435 - acc: 0.4393 - val_loss: 1.5820 - val_acc: 0.2934\n",
            "Epoch 15/15\n",
            "1334/1334 [==============================] - 0s 251us/step - loss: 1.5357 - acc: 0.4175 - val_loss: 1.5778 - val_acc: 0.3084\n"
          ],
          "name": "stdout"
        }
      ]
    },
    {
      "cell_type": "code",
      "metadata": {
        "id": "kHBQ-bAzTd0A",
        "colab_type": "code",
        "outputId": "79a47b6f-c304-40ab-ea91-0ddb4529f3a4",
        "colab": {
          "base_uri": "https://localhost:8080/",
          "height": 94
        }
      },
      "source": [
        "y_predicted = predict_one_h(model,x_test)\n",
        "model_name = \"Embedding and Conv1d Layers\"\n",
        "meval = model_eval_metrics(y_test,y_predicted, model_name)\n",
        "f1 = f1.append(meval)\n",
        "meval_r2 = evaluate_r2(model,x_test,y_test,model_name)\n",
        "r2 = r2.append(meval_r2)\n",
        "##\n",
        "meval\n"
      ],
      "execution_count": 15,
      "outputs": [
        {
          "output_type": "stream",
          "text": [
            "557/557 [==============================] - 0s 57us/step\n"
          ],
          "name": "stdout"
        },
        {
          "output_type": "execute_result",
          "data": {
            "text/html": [
              "<div>\n",
              "<style scoped>\n",
              "    .dataframe tbody tr th:only-of-type {\n",
              "        vertical-align: middle;\n",
              "    }\n",
              "\n",
              "    .dataframe tbody tr th {\n",
              "        vertical-align: top;\n",
              "    }\n",
              "\n",
              "    .dataframe thead th {\n",
              "        text-align: right;\n",
              "    }\n",
              "</style>\n",
              "<table border=\"1\" class=\"dataframe\">\n",
              "  <thead>\n",
              "    <tr style=\"text-align: right;\">\n",
              "      <th></th>\n",
              "      <th>model</th>\n",
              "      <th>accuracy</th>\n",
              "      <th>f1_score</th>\n",
              "      <th>precision</th>\n",
              "      <th>recall</th>\n",
              "    </tr>\n",
              "  </thead>\n",
              "  <tbody>\n",
              "    <tr>\n",
              "      <th>0</th>\n",
              "      <td>Embedding and Conv1d Layers</td>\n",
              "      <td>0.32316</td>\n",
              "      <td>0.180656</td>\n",
              "      <td>0.159439</td>\n",
              "      <td>0.281784</td>\n",
              "    </tr>\n",
              "  </tbody>\n",
              "</table>\n",
              "</div>"
            ],
            "text/plain": [
              "                         model  accuracy  f1_score  precision    recall\n",
              "0  Embedding and Conv1d Layers   0.32316  0.180656   0.159439  0.281784"
            ]
          },
          "metadata": {
            "tags": []
          },
          "execution_count": 15
        }
      ]
    },
    {
      "cell_type": "markdown",
      "metadata": {
        "id": "FIE9u25Q4XuC",
        "colab_type": "text"
      },
      "source": [
        "## C. A model using an Embedding layer with one sequential layer (LSTM or GRU)"
      ]
    },
    {
      "cell_type": "code",
      "metadata": {
        "id": "tpBNQvyfVACi",
        "colab_type": "code",
        "outputId": "ac750fed-86c5-463c-da88-f9f04ddc006c",
        "colab": {
          "base_uri": "https://localhost:8080/",
          "height": 591
        }
      },
      "source": [
        "# Example 1: simple RNN\n",
        "from keras.layers import SimpleRNN, LSTM\n",
        "from keras.models import Sequential\n",
        "from keras.layers import Embedding, SimpleRNN\n",
        "\n",
        "model = Sequential()\n",
        "model.add(Embedding(10000, 16, input_length=maxlen))\n",
        "model.add(SimpleRNN(32))\n",
        "model.add(Dense(5, activation='softmax'))\n",
        "\n",
        "model.compile(optimizer='rmsprop', loss='categorical_crossentropy', metrics=['acc'])\n",
        "history = model.fit(x_train, y_train,\n",
        "                    epochs=15,\n",
        "                    batch_size=16,\n",
        "                    validation_split=0.2)\n",
        "\n",
        "# Small training data.  Increase for model improvement"
      ],
      "execution_count": 16,
      "outputs": [
        {
          "output_type": "stream",
          "text": [
            "/usr/local/lib/python3.6/dist-packages/tensorflow/python/framework/indexed_slices.py:434: UserWarning: Converting sparse IndexedSlices to a dense Tensor of unknown shape. This may consume a large amount of memory.\n",
            "  \"Converting sparse IndexedSlices to a dense Tensor of unknown shape. \"\n"
          ],
          "name": "stderr"
        },
        {
          "output_type": "stream",
          "text": [
            "Train on 1334 samples, validate on 334 samples\n",
            "Epoch 1/15\n",
            "1334/1334 [==============================] - 6s 4ms/step - loss: 1.6009 - acc: 0.2534 - val_loss: 1.5860 - val_acc: 0.2754\n",
            "Epoch 2/15\n",
            "1334/1334 [==============================] - 6s 4ms/step - loss: 1.3847 - acc: 0.5270 - val_loss: 1.3864 - val_acc: 0.3892\n",
            "Epoch 3/15\n",
            "1334/1334 [==============================] - 6s 4ms/step - loss: 0.9530 - acc: 0.7931 - val_loss: 1.2589 - val_acc: 0.4940\n",
            "Epoch 4/15\n",
            "1334/1334 [==============================] - 6s 4ms/step - loss: 0.5638 - acc: 0.9205 - val_loss: 1.2121 - val_acc: 0.5329\n",
            "Epoch 5/15\n",
            "1334/1334 [==============================] - 6s 4ms/step - loss: 0.3127 - acc: 0.9738 - val_loss: 1.3225 - val_acc: 0.4641\n",
            "Epoch 6/15\n",
            "1334/1334 [==============================] - 6s 4ms/step - loss: 0.1559 - acc: 0.9910 - val_loss: 1.3019 - val_acc: 0.4970\n",
            "Epoch 7/15\n",
            "1334/1334 [==============================] - 6s 4ms/step - loss: 0.0765 - acc: 0.9970 - val_loss: 1.2844 - val_acc: 0.5299\n",
            "Epoch 8/15\n",
            "1334/1334 [==============================] - 6s 4ms/step - loss: 0.0330 - acc: 1.0000 - val_loss: 1.5435 - val_acc: 0.4401\n",
            "Epoch 9/15\n",
            "1334/1334 [==============================] - 6s 4ms/step - loss: 0.0301 - acc: 0.9955 - val_loss: 1.4482 - val_acc: 0.5060\n",
            "Epoch 10/15\n",
            "1334/1334 [==============================] - 6s 4ms/step - loss: 0.0093 - acc: 0.9993 - val_loss: 1.3552 - val_acc: 0.5479\n",
            "Epoch 11/15\n",
            "1334/1334 [==============================] - 6s 4ms/step - loss: 0.0117 - acc: 0.9985 - val_loss: 1.7674 - val_acc: 0.4431\n",
            "Epoch 12/15\n",
            "1334/1334 [==============================] - 6s 4ms/step - loss: 0.0047 - acc: 1.0000 - val_loss: 1.4997 - val_acc: 0.5240\n",
            "Epoch 13/15\n",
            "1334/1334 [==============================] - 6s 4ms/step - loss: 0.0080 - acc: 0.9985 - val_loss: 1.4159 - val_acc: 0.5509\n",
            "Epoch 14/15\n",
            "1334/1334 [==============================] - 6s 4ms/step - loss: 0.0018 - acc: 1.0000 - val_loss: 1.5053 - val_acc: 0.5689\n",
            "Epoch 15/15\n",
            "1334/1334 [==============================] - 6s 4ms/step - loss: 0.0037 - acc: 1.0000 - val_loss: 1.5148 - val_acc: 0.5898\n"
          ],
          "name": "stdout"
        }
      ]
    },
    {
      "cell_type": "code",
      "metadata": {
        "id": "oUAueoG86dx1",
        "colab_type": "code",
        "outputId": "daa53c18-dfb1-40c5-8865-67f5eb9e914a",
        "colab": {
          "base_uri": "https://localhost:8080/",
          "height": 94
        }
      },
      "source": [
        "y_predicted = predict_one_h(model,x_test)\n",
        "model_name = \"Embedding and 1 Sequential\"\n",
        "meval = model_eval_metrics(y_test,y_predicted, model_name)\n",
        "f1 = f1.append(meval)\n",
        "meval_r2 = evaluate_r2(model,x_test,y_test,model_name)\n",
        "r2 = r2.append(meval_r2)\n",
        "##\n",
        "meval"
      ],
      "execution_count": 17,
      "outputs": [
        {
          "output_type": "stream",
          "text": [
            "557/557 [==============================] - 0s 248us/step\n"
          ],
          "name": "stdout"
        },
        {
          "output_type": "execute_result",
          "data": {
            "text/html": [
              "<div>\n",
              "<style scoped>\n",
              "    .dataframe tbody tr th:only-of-type {\n",
              "        vertical-align: middle;\n",
              "    }\n",
              "\n",
              "    .dataframe tbody tr th {\n",
              "        vertical-align: top;\n",
              "    }\n",
              "\n",
              "    .dataframe thead th {\n",
              "        text-align: right;\n",
              "    }\n",
              "</style>\n",
              "<table border=\"1\" class=\"dataframe\">\n",
              "  <thead>\n",
              "    <tr style=\"text-align: right;\">\n",
              "      <th></th>\n",
              "      <th>model</th>\n",
              "      <th>accuracy</th>\n",
              "      <th>f1_score</th>\n",
              "      <th>precision</th>\n",
              "      <th>recall</th>\n",
              "    </tr>\n",
              "  </thead>\n",
              "  <tbody>\n",
              "    <tr>\n",
              "      <th>0</th>\n",
              "      <td>Embedding and 1 Sequential</td>\n",
              "      <td>0.466786</td>\n",
              "      <td>0.438519</td>\n",
              "      <td>0.43701</td>\n",
              "      <td>0.444415</td>\n",
              "    </tr>\n",
              "  </tbody>\n",
              "</table>\n",
              "</div>"
            ],
            "text/plain": [
              "                        model  accuracy  f1_score  precision    recall\n",
              "0  Embedding and 1 Sequential  0.466786  0.438519    0.43701  0.444415"
            ]
          },
          "metadata": {
            "tags": []
          },
          "execution_count": 17
        }
      ]
    },
    {
      "cell_type": "markdown",
      "metadata": {
        "id": "cic3pxD_2kGS",
        "colab_type": "text"
      },
      "source": [
        "## D. A model using an Embedding layer with stacked sequential layers (LSTM or GRU)"
      ]
    },
    {
      "cell_type": "code",
      "metadata": {
        "id": "ZZMUAOgsXnyL",
        "colab_type": "code",
        "outputId": "9cad81af-da64-41ce-c55c-9f2d2a99c488",
        "colab": {
          "base_uri": "https://localhost:8080/",
          "height": 591
        }
      },
      "source": [
        "# Example 2: Stacked RNN layers\n",
        "\n",
        "model = Sequential()\n",
        "model.add(Embedding(10000, 32, input_length=maxlen))\n",
        "model.add(SimpleRNN(32, return_sequences=True))\n",
        "model.add(SimpleRNN(32, return_sequences=True))\n",
        "model.add(SimpleRNN(32, return_sequences=True))\n",
        "model.add(SimpleRNN(32))\n",
        "model.add(Dense(5, activation='softmax'))\n",
        "\n",
        "model.compile(optimizer='rmsprop', loss='categorical_crossentropy', metrics=['acc'])\n",
        "history = model.fit(x_train, y_train,\n",
        "                    epochs=15,\n",
        "                    batch_size=16,\n",
        "                    validation_split=0.2)\n",
        "\n"
      ],
      "execution_count": 18,
      "outputs": [
        {
          "output_type": "stream",
          "text": [
            "/usr/local/lib/python3.6/dist-packages/tensorflow/python/framework/indexed_slices.py:434: UserWarning: Converting sparse IndexedSlices to a dense Tensor of unknown shape. This may consume a large amount of memory.\n",
            "  \"Converting sparse IndexedSlices to a dense Tensor of unknown shape. \"\n"
          ],
          "name": "stderr"
        },
        {
          "output_type": "stream",
          "text": [
            "Train on 1334 samples, validate on 334 samples\n",
            "Epoch 1/15\n",
            "1334/1334 [==============================] - 22s 16ms/step - loss: 1.6379 - acc: 0.2234 - val_loss: 1.6211 - val_acc: 0.1826\n",
            "Epoch 2/15\n",
            "1334/1334 [==============================] - 21s 16ms/step - loss: 1.2859 - acc: 0.5112 - val_loss: 1.7219 - val_acc: 0.2545\n",
            "Epoch 3/15\n",
            "1334/1334 [==============================] - 21s 16ms/step - loss: 0.5432 - acc: 0.8478 - val_loss: 2.2015 - val_acc: 0.2754\n",
            "Epoch 4/15\n",
            "1334/1334 [==============================] - 21s 16ms/step - loss: 0.1503 - acc: 0.9723 - val_loss: 2.6345 - val_acc: 0.2695\n",
            "Epoch 5/15\n",
            "1334/1334 [==============================] - 21s 16ms/step - loss: 0.0285 - acc: 0.9978 - val_loss: 3.0535 - val_acc: 0.2904\n",
            "Epoch 6/15\n",
            "1334/1334 [==============================] - 21s 16ms/step - loss: 0.0072 - acc: 0.9993 - val_loss: 3.3204 - val_acc: 0.3144\n",
            "Epoch 7/15\n",
            "1334/1334 [==============================] - 21s 16ms/step - loss: 0.0012 - acc: 1.0000 - val_loss: 3.9566 - val_acc: 0.2784\n",
            "Epoch 8/15\n",
            "1334/1334 [==============================] - 21s 16ms/step - loss: 2.5688e-04 - acc: 1.0000 - val_loss: 4.4220 - val_acc: 0.2665\n",
            "Epoch 9/15\n",
            "1334/1334 [==============================] - 21s 16ms/step - loss: 4.8601e-05 - acc: 1.0000 - val_loss: 5.0474 - val_acc: 0.2725\n",
            "Epoch 10/15\n",
            "1334/1334 [==============================] - 21s 16ms/step - loss: 5.6108e-06 - acc: 1.0000 - val_loss: 5.9870 - val_acc: 0.2665\n",
            "Epoch 11/15\n",
            "1334/1334 [==============================] - 21s 16ms/step - loss: 7.8871e-07 - acc: 1.0000 - val_loss: 6.7011 - val_acc: 0.2754\n",
            "Epoch 12/15\n",
            "1334/1334 [==============================] - 21s 16ms/step - loss: 1.8578e-07 - acc: 1.0000 - val_loss: 7.0139 - val_acc: 0.2904\n",
            "Epoch 13/15\n",
            "1334/1334 [==============================] - 21s 16ms/step - loss: 5.5315e-08 - acc: 1.0000 - val_loss: 7.1663 - val_acc: 0.2874\n",
            "Epoch 14/15\n",
            "1334/1334 [==============================] - 21s 16ms/step - loss: 1.9302e-08 - acc: 1.0000 - val_loss: 7.2352 - val_acc: 0.2874\n",
            "Epoch 15/15\n",
            "1334/1334 [==============================] - 21s 16ms/step - loss: 1.6979e-09 - acc: 1.0000 - val_loss: 7.2528 - val_acc: 0.2874\n"
          ],
          "name": "stdout"
        }
      ]
    },
    {
      "cell_type": "code",
      "metadata": {
        "id": "ePfLk-no7lGH",
        "colab_type": "code",
        "outputId": "b0d524c0-4866-42ae-c477-f231b22f89ee",
        "colab": {
          "base_uri": "https://localhost:8080/",
          "height": 94
        }
      },
      "source": [
        "y_predicted = predict_one_h(model,x_test)\n",
        "model_name = \"Embedding and stacked Sequential\"\n",
        "meval = model_eval_metrics(y_test,y_predicted, model_name)\n",
        "f1 = f1.append(meval)\n",
        "meval_r2 = evaluate_r2(model,x_test,y_test,model_name)\n",
        "r2 = r2.append(meval_r2)\n",
        "##\n",
        "meval"
      ],
      "execution_count": 19,
      "outputs": [
        {
          "output_type": "stream",
          "text": [
            "557/557 [==============================] - 1s 915us/step\n"
          ],
          "name": "stdout"
        },
        {
          "output_type": "execute_result",
          "data": {
            "text/html": [
              "<div>\n",
              "<style scoped>\n",
              "    .dataframe tbody tr th:only-of-type {\n",
              "        vertical-align: middle;\n",
              "    }\n",
              "\n",
              "    .dataframe tbody tr th {\n",
              "        vertical-align: top;\n",
              "    }\n",
              "\n",
              "    .dataframe thead th {\n",
              "        text-align: right;\n",
              "    }\n",
              "</style>\n",
              "<table border=\"1\" class=\"dataframe\">\n",
              "  <thead>\n",
              "    <tr style=\"text-align: right;\">\n",
              "      <th></th>\n",
              "      <th>model</th>\n",
              "      <th>accuracy</th>\n",
              "      <th>f1_score</th>\n",
              "      <th>precision</th>\n",
              "      <th>recall</th>\n",
              "    </tr>\n",
              "  </thead>\n",
              "  <tbody>\n",
              "    <tr>\n",
              "      <th>0</th>\n",
              "      <td>Embedding and stacked Sequential</td>\n",
              "      <td>0.29623</td>\n",
              "      <td>0.293517</td>\n",
              "      <td>0.292887</td>\n",
              "      <td>0.295088</td>\n",
              "    </tr>\n",
              "  </tbody>\n",
              "</table>\n",
              "</div>"
            ],
            "text/plain": [
              "                              model  accuracy  f1_score  precision    recall\n",
              "0  Embedding and stacked Sequential   0.29623  0.293517   0.292887  0.295088"
            ]
          },
          "metadata": {
            "tags": []
          },
          "execution_count": 19
        }
      ]
    },
    {
      "cell_type": "markdown",
      "metadata": {
        "id": "dSKfAJVqeO1f",
        "colab_type": "text"
      },
      "source": [
        "## E. A model using an Embedding layer with bidirectional sequential layers"
      ]
    },
    {
      "cell_type": "code",
      "metadata": {
        "id": "uwhok38UX7AB",
        "colab_type": "code",
        "outputId": "a1ca4423-e1fc-4354-a390-70e6f9d28cb9",
        "colab": {
          "base_uri": "https://localhost:8080/",
          "height": 591
        }
      },
      "source": [
        "model = Sequential()\n",
        "model.add(Embedding(10000, 16, input_length=maxlen))\n",
        "model.add(layers.Bidirectional(layers.LSTM(32)))\n",
        "model.add(layers.Dense(5, activation='softmax'))\n",
        "\n",
        "model.compile(optimizer='rmsprop', loss='categorical_crossentropy', metrics=['acc'])\n",
        "history = model.fit(x_train, y_train, epochs=15, batch_size=32, validation_split=0.2)"
      ],
      "execution_count": 20,
      "outputs": [
        {
          "output_type": "stream",
          "text": [
            "/usr/local/lib/python3.6/dist-packages/tensorflow/python/framework/indexed_slices.py:434: UserWarning: Converting sparse IndexedSlices to a dense Tensor of unknown shape. This may consume a large amount of memory.\n",
            "  \"Converting sparse IndexedSlices to a dense Tensor of unknown shape. \"\n"
          ],
          "name": "stderr"
        },
        {
          "output_type": "stream",
          "text": [
            "Train on 1334 samples, validate on 334 samples\n",
            "Epoch 1/15\n",
            "1334/1334 [==============================] - 15s 11ms/step - loss: 1.6020 - acc: 0.2699 - val_loss: 1.5539 - val_acc: 0.2515\n",
            "Epoch 2/15\n",
            "1334/1334 [==============================] - 14s 11ms/step - loss: 1.2427 - acc: 0.4528 - val_loss: 1.0480 - val_acc: 0.5269\n",
            "Epoch 3/15\n",
            "1334/1334 [==============================] - 14s 11ms/step - loss: 0.8552 - acc: 0.6777 - val_loss: 0.7376 - val_acc: 0.7096\n",
            "Epoch 4/15\n",
            "1334/1334 [==============================] - 14s 11ms/step - loss: 0.5615 - acc: 0.7706 - val_loss: 0.6165 - val_acc: 0.7455\n",
            "Epoch 5/15\n",
            "1334/1334 [==============================] - 14s 11ms/step - loss: 0.3987 - acc: 0.8433 - val_loss: 0.5583 - val_acc: 0.7934\n",
            "Epoch 6/15\n",
            "1334/1334 [==============================] - 14s 11ms/step - loss: 0.2979 - acc: 0.9250 - val_loss: 0.5551 - val_acc: 0.8174\n",
            "Epoch 7/15\n",
            "1334/1334 [==============================] - 14s 11ms/step - loss: 0.1982 - acc: 0.9588 - val_loss: 0.8592 - val_acc: 0.7275\n",
            "Epoch 8/15\n",
            "1334/1334 [==============================] - 14s 11ms/step - loss: 0.1527 - acc: 0.9693 - val_loss: 0.4716 - val_acc: 0.8293\n",
            "Epoch 9/15\n",
            "1334/1334 [==============================] - 14s 11ms/step - loss: 0.1075 - acc: 0.9798 - val_loss: 0.6003 - val_acc: 0.7994\n",
            "Epoch 10/15\n",
            "1334/1334 [==============================] - 14s 11ms/step - loss: 0.0884 - acc: 0.9813 - val_loss: 0.9366 - val_acc: 0.7246\n",
            "Epoch 11/15\n",
            "1334/1334 [==============================] - 14s 11ms/step - loss: 0.0799 - acc: 0.9805 - val_loss: 0.8160 - val_acc: 0.8293\n",
            "Epoch 12/15\n",
            "1334/1334 [==============================] - 14s 11ms/step - loss: 0.0697 - acc: 0.9850 - val_loss: 0.6514 - val_acc: 0.8353\n",
            "Epoch 13/15\n",
            "1334/1334 [==============================] - 14s 11ms/step - loss: 0.0501 - acc: 0.9858 - val_loss: 0.6842 - val_acc: 0.8174\n",
            "Epoch 14/15\n",
            "1334/1334 [==============================] - 14s 11ms/step - loss: 0.0345 - acc: 0.9955 - val_loss: 0.7504 - val_acc: 0.8174\n",
            "Epoch 15/15\n",
            "1334/1334 [==============================] - 14s 11ms/step - loss: 0.0424 - acc: 0.9918 - val_loss: 0.9320 - val_acc: 0.8353\n"
          ],
          "name": "stdout"
        }
      ]
    },
    {
      "cell_type": "code",
      "metadata": {
        "id": "DbCbnrNbeEHs",
        "colab_type": "code",
        "outputId": "09483f88-abc6-4812-c762-ca6fb6c1d4d2",
        "colab": {
          "base_uri": "https://localhost:8080/",
          "height": 94
        }
      },
      "source": [
        "y_predicted = predict_one_h(model,x_test)\n",
        "model_name = \"Embedding bidrectional\"\n",
        "meval = model_eval_metrics(y_test,y_predicted, model_name)\n",
        "f1 = f1.append(meval)\n",
        "meval_r2 = evaluate_r2(model,x_test,y_test,model_name)\n",
        "r2 = r2.append(meval_r2)\n",
        "##\n",
        "meval"
      ],
      "execution_count": 21,
      "outputs": [
        {
          "output_type": "stream",
          "text": [
            "557/557 [==============================] - 1s 936us/step\n"
          ],
          "name": "stdout"
        },
        {
          "output_type": "execute_result",
          "data": {
            "text/html": [
              "<div>\n",
              "<style scoped>\n",
              "    .dataframe tbody tr th:only-of-type {\n",
              "        vertical-align: middle;\n",
              "    }\n",
              "\n",
              "    .dataframe tbody tr th {\n",
              "        vertical-align: top;\n",
              "    }\n",
              "\n",
              "    .dataframe thead th {\n",
              "        text-align: right;\n",
              "    }\n",
              "</style>\n",
              "<table border=\"1\" class=\"dataframe\">\n",
              "  <thead>\n",
              "    <tr style=\"text-align: right;\">\n",
              "      <th></th>\n",
              "      <th>model</th>\n",
              "      <th>accuracy</th>\n",
              "      <th>f1_score</th>\n",
              "      <th>precision</th>\n",
              "      <th>recall</th>\n",
              "    </tr>\n",
              "  </thead>\n",
              "  <tbody>\n",
              "    <tr>\n",
              "      <th>0</th>\n",
              "      <td>Embedding bidrectional</td>\n",
              "      <td>0.820467</td>\n",
              "      <td>0.819088</td>\n",
              "      <td>0.826374</td>\n",
              "      <td>0.817894</td>\n",
              "    </tr>\n",
              "  </tbody>\n",
              "</table>\n",
              "</div>"
            ],
            "text/plain": [
              "                    model  accuracy  f1_score  precision    recall\n",
              "0  Embedding bidrectional  0.820467  0.819088   0.826374  0.817894"
            ]
          },
          "metadata": {
            "tags": []
          },
          "execution_count": 21
        }
      ]
    },
    {
      "cell_type": "code",
      "metadata": {
        "id": "6Afe4jHm8sYV",
        "colab_type": "code",
        "outputId": "553e216d-55d6-4043-9052-6e5287f75ee4",
        "colab": {
          "base_uri": "https://localhost:8080/",
          "height": 195
        }
      },
      "source": [
        "#Summary:\n",
        "\n",
        "f1"
      ],
      "execution_count": 22,
      "outputs": [
        {
          "output_type": "execute_result",
          "data": {
            "text/html": [
              "<div>\n",
              "<style scoped>\n",
              "    .dataframe tbody tr th:only-of-type {\n",
              "        vertical-align: middle;\n",
              "    }\n",
              "\n",
              "    .dataframe tbody tr th {\n",
              "        vertical-align: top;\n",
              "    }\n",
              "\n",
              "    .dataframe thead th {\n",
              "        text-align: right;\n",
              "    }\n",
              "</style>\n",
              "<table border=\"1\" class=\"dataframe\">\n",
              "  <thead>\n",
              "    <tr style=\"text-align: right;\">\n",
              "      <th></th>\n",
              "      <th>model</th>\n",
              "      <th>accuracy</th>\n",
              "      <th>f1_score</th>\n",
              "      <th>precision</th>\n",
              "      <th>recall</th>\n",
              "    </tr>\n",
              "  </thead>\n",
              "  <tbody>\n",
              "    <tr>\n",
              "      <th>0</th>\n",
              "      <td>Embedding and dense</td>\n",
              "      <td>0.824057</td>\n",
              "      <td>0.820624</td>\n",
              "      <td>0.830079</td>\n",
              "      <td>0.818516</td>\n",
              "    </tr>\n",
              "    <tr>\n",
              "      <th>0</th>\n",
              "      <td>Embedding and Conv1d Layers</td>\n",
              "      <td>0.323160</td>\n",
              "      <td>0.180656</td>\n",
              "      <td>0.159439</td>\n",
              "      <td>0.281784</td>\n",
              "    </tr>\n",
              "    <tr>\n",
              "      <th>0</th>\n",
              "      <td>Embedding and 1 Sequential</td>\n",
              "      <td>0.466786</td>\n",
              "      <td>0.438519</td>\n",
              "      <td>0.437010</td>\n",
              "      <td>0.444415</td>\n",
              "    </tr>\n",
              "    <tr>\n",
              "      <th>0</th>\n",
              "      <td>Embedding and stacked Sequential</td>\n",
              "      <td>0.296230</td>\n",
              "      <td>0.293517</td>\n",
              "      <td>0.292887</td>\n",
              "      <td>0.295088</td>\n",
              "    </tr>\n",
              "    <tr>\n",
              "      <th>0</th>\n",
              "      <td>Embedding bidrectional</td>\n",
              "      <td>0.820467</td>\n",
              "      <td>0.819088</td>\n",
              "      <td>0.826374</td>\n",
              "      <td>0.817894</td>\n",
              "    </tr>\n",
              "  </tbody>\n",
              "</table>\n",
              "</div>"
            ],
            "text/plain": [
              "                              model  accuracy  f1_score  precision    recall\n",
              "0               Embedding and dense  0.824057  0.820624   0.830079  0.818516\n",
              "0       Embedding and Conv1d Layers  0.323160  0.180656   0.159439  0.281784\n",
              "0        Embedding and 1 Sequential  0.466786  0.438519   0.437010  0.444415\n",
              "0  Embedding and stacked Sequential  0.296230  0.293517   0.292887  0.295088\n",
              "0            Embedding bidrectional  0.820467  0.819088   0.826374  0.817894"
            ]
          },
          "metadata": {
            "tags": []
          },
          "execution_count": 22
        }
      ]
    },
    {
      "cell_type": "code",
      "metadata": {
        "id": "qAPAoekS_mKr",
        "colab_type": "code",
        "outputId": "61b152b3-2a7c-4b86-a690-9ec9f939eccd",
        "colab": {
          "base_uri": "https://localhost:8080/",
          "height": 195
        }
      },
      "source": [
        "r2"
      ],
      "execution_count": 23,
      "outputs": [
        {
          "output_type": "execute_result",
          "data": {
            "text/html": [
              "<div>\n",
              "<style scoped>\n",
              "    .dataframe tbody tr th:only-of-type {\n",
              "        vertical-align: middle;\n",
              "    }\n",
              "\n",
              "    .dataframe tbody tr th {\n",
              "        vertical-align: top;\n",
              "    }\n",
              "\n",
              "    .dataframe thead th {\n",
              "        text-align: right;\n",
              "    }\n",
              "</style>\n",
              "<table border=\"1\" class=\"dataframe\">\n",
              "  <thead>\n",
              "    <tr style=\"text-align: right;\">\n",
              "      <th></th>\n",
              "      <th>model</th>\n",
              "      <th>loss</th>\n",
              "      <th>accuaracy</th>\n",
              "    </tr>\n",
              "  </thead>\n",
              "  <tbody>\n",
              "    <tr>\n",
              "      <th>0</th>\n",
              "      <td>Embedding and dense</td>\n",
              "      <td>0.475163</td>\n",
              "      <td>0.824057</td>\n",
              "    </tr>\n",
              "    <tr>\n",
              "      <th>0</th>\n",
              "      <td>Embedding and Conv1d Layers</td>\n",
              "      <td>1.579606</td>\n",
              "      <td>0.323160</td>\n",
              "    </tr>\n",
              "    <tr>\n",
              "      <th>0</th>\n",
              "      <td>Embedding and 1 Sequential</td>\n",
              "      <td>1.827802</td>\n",
              "      <td>0.466786</td>\n",
              "    </tr>\n",
              "    <tr>\n",
              "      <th>0</th>\n",
              "      <td>Embedding and stacked Sequential</td>\n",
              "      <td>7.366153</td>\n",
              "      <td>0.296230</td>\n",
              "    </tr>\n",
              "    <tr>\n",
              "      <th>0</th>\n",
              "      <td>Embedding bidrectional</td>\n",
              "      <td>0.963615</td>\n",
              "      <td>0.820467</td>\n",
              "    </tr>\n",
              "  </tbody>\n",
              "</table>\n",
              "</div>"
            ],
            "text/plain": [
              "                              model      loss  accuaracy\n",
              "0               Embedding and dense  0.475163   0.824057\n",
              "0       Embedding and Conv1d Layers  1.579606   0.323160\n",
              "0        Embedding and 1 Sequential  1.827802   0.466786\n",
              "0  Embedding and stacked Sequential  7.366153   0.296230\n",
              "0            Embedding bidrectional  0.963615   0.820467"
            ]
          },
          "metadata": {
            "tags": []
          },
          "execution_count": 23
        }
      ]
    },
    {
      "cell_type": "markdown",
      "metadata": {
        "id": "fNcFyFtc8kup",
        "colab_type": "text"
      },
      "source": [
        "# F. Now retrain your best model from C, D, and E using dropout (you may need to increase epochs!)."
      ]
    },
    {
      "cell_type": "code",
      "metadata": {
        "id": "nL4wYuzWDa1f",
        "colab_type": "code",
        "colab": {
          "base_uri": "https://localhost:8080/",
          "height": 1000
        },
        "outputId": "be2959ea-171e-4f3a-8c4f-a8fb1e1f4d88"
      },
      "source": [
        "model = Sequential()\n",
        "model.add(Embedding(10000, 16, input_length=maxlen))\n",
        "model.add(layers.Bidirectional(layers.LSTM(32,dropout=0.2,recurrent_dropout=0.2)))\n",
        "model.add(layers.Dense(5, activation='softmax'))\n",
        "\n",
        "model.compile(optimizer='rmsprop', loss='binary_crossentropy', metrics=['acc'])\n",
        "history = model.fit(x_train, y_train, epochs=30, batch_size=32, validation_split=0.2)"
      ],
      "execution_count": 24,
      "outputs": [
        {
          "output_type": "stream",
          "text": [
            "/usr/local/lib/python3.6/dist-packages/tensorflow/python/framework/indexed_slices.py:434: UserWarning: Converting sparse IndexedSlices to a dense Tensor of unknown shape. This may consume a large amount of memory.\n",
            "  \"Converting sparse IndexedSlices to a dense Tensor of unknown shape. \"\n"
          ],
          "name": "stderr"
        },
        {
          "output_type": "stream",
          "text": [
            "Train on 1334 samples, validate on 334 samples\n",
            "Epoch 1/30\n",
            "1334/1334 [==============================] - 18s 13ms/step - loss: 0.4991 - acc: 0.8000 - val_loss: 0.4957 - val_acc: 0.8000\n",
            "Epoch 2/30\n",
            "1334/1334 [==============================] - 17s 12ms/step - loss: 0.4664 - acc: 0.8015 - val_loss: 0.4071 - val_acc: 0.8096\n",
            "Epoch 3/30\n",
            "1334/1334 [==============================] - 17s 12ms/step - loss: 0.4041 - acc: 0.8207 - val_loss: 0.3771 - val_acc: 0.8257\n",
            "Epoch 4/30\n",
            "1334/1334 [==============================] - 16s 12ms/step - loss: 0.3833 - acc: 0.8213 - val_loss: 0.3694 - val_acc: 0.8246\n",
            "Epoch 5/30\n",
            "1334/1334 [==============================] - 17s 13ms/step - loss: 0.3679 - acc: 0.8261 - val_loss: 0.3638 - val_acc: 0.8293\n",
            "Epoch 6/30\n",
            "1334/1334 [==============================] - 17s 13ms/step - loss: 0.3643 - acc: 0.8294 - val_loss: 0.3818 - val_acc: 0.8455\n",
            "Epoch 7/30\n",
            "1334/1334 [==============================] - 17s 13ms/step - loss: 0.3541 - acc: 0.8382 - val_loss: 0.3564 - val_acc: 0.8299\n",
            "Epoch 8/30\n",
            "1334/1334 [==============================] - 17s 13ms/step - loss: 0.3361 - acc: 0.8462 - val_loss: 0.3549 - val_acc: 0.8557\n",
            "Epoch 9/30\n",
            "1334/1334 [==============================] - 17s 12ms/step - loss: 0.3232 - acc: 0.8600 - val_loss: 0.3505 - val_acc: 0.8611\n",
            "Epoch 10/30\n",
            "1334/1334 [==============================] - 17s 13ms/step - loss: 0.2920 - acc: 0.8735 - val_loss: 0.2922 - val_acc: 0.8790\n",
            "Epoch 11/30\n",
            "1334/1334 [==============================] - 17s 12ms/step - loss: 0.2685 - acc: 0.8877 - val_loss: 0.2550 - val_acc: 0.9048\n",
            "Epoch 12/30\n",
            "1334/1334 [==============================] - 16s 12ms/step - loss: 0.2361 - acc: 0.9037 - val_loss: 0.2540 - val_acc: 0.9000\n",
            "Epoch 13/30\n",
            "1334/1334 [==============================] - 17s 13ms/step - loss: 0.2123 - acc: 0.9198 - val_loss: 0.2160 - val_acc: 0.9138\n",
            "Epoch 14/30\n",
            "1334/1334 [==============================] - 17s 13ms/step - loss: 0.1808 - acc: 0.9382 - val_loss: 0.1989 - val_acc: 0.9353\n",
            "Epoch 15/30\n",
            "1334/1334 [==============================] - 16s 12ms/step - loss: 0.1590 - acc: 0.9445 - val_loss: 0.1468 - val_acc: 0.9551\n",
            "Epoch 16/30\n",
            "1334/1334 [==============================] - 17s 12ms/step - loss: 0.1281 - acc: 0.9571 - val_loss: 0.1482 - val_acc: 0.9533\n",
            "Epoch 17/30\n",
            "1334/1334 [==============================] - 17s 13ms/step - loss: 0.1321 - acc: 0.9589 - val_loss: 0.1674 - val_acc: 0.9455\n",
            "Epoch 18/30\n",
            "1334/1334 [==============================] - 17s 13ms/step - loss: 0.1224 - acc: 0.9616 - val_loss: 0.1731 - val_acc: 0.9419\n",
            "Epoch 19/30\n",
            "1334/1334 [==============================] - 17s 13ms/step - loss: 0.0991 - acc: 0.9696 - val_loss: 0.1688 - val_acc: 0.9443\n",
            "Epoch 20/30\n",
            "1334/1334 [==============================] - 17s 13ms/step - loss: 0.0910 - acc: 0.9733 - val_loss: 0.1671 - val_acc: 0.9431\n",
            "Epoch 21/30\n",
            "1334/1334 [==============================] - 17s 13ms/step - loss: 0.0785 - acc: 0.9787 - val_loss: 0.1418 - val_acc: 0.9491\n",
            "Epoch 22/30\n",
            "1334/1334 [==============================] - 17s 13ms/step - loss: 0.0730 - acc: 0.9793 - val_loss: 0.1579 - val_acc: 0.9467\n",
            "Epoch 23/30\n",
            "1334/1334 [==============================] - 17s 13ms/step - loss: 0.0696 - acc: 0.9789 - val_loss: 0.1684 - val_acc: 0.9449\n",
            "Epoch 24/30\n",
            "1334/1334 [==============================] - 17s 13ms/step - loss: 0.0675 - acc: 0.9784 - val_loss: 0.1184 - val_acc: 0.9581\n",
            "Epoch 25/30\n",
            "1334/1334 [==============================] - 17s 13ms/step - loss: 0.0580 - acc: 0.9831 - val_loss: 0.0998 - val_acc: 0.9671\n",
            "Epoch 26/30\n",
            "1334/1334 [==============================] - 17s 13ms/step - loss: 0.0415 - acc: 0.9898 - val_loss: 0.1146 - val_acc: 0.9617\n",
            "Epoch 27/30\n",
            "1334/1334 [==============================] - 17s 13ms/step - loss: 0.0401 - acc: 0.9873 - val_loss: 0.0975 - val_acc: 0.9683\n",
            "Epoch 28/30\n",
            "1334/1334 [==============================] - 17s 12ms/step - loss: 0.0320 - acc: 0.9922 - val_loss: 0.0942 - val_acc: 0.9659\n",
            "Epoch 29/30\n",
            "1334/1334 [==============================] - 17s 13ms/step - loss: 0.0250 - acc: 0.9934 - val_loss: 0.1397 - val_acc: 0.9593\n",
            "Epoch 30/30\n",
            "1334/1334 [==============================] - 17s 13ms/step - loss: 0.0295 - acc: 0.9922 - val_loss: 0.0817 - val_acc: 0.9754\n"
          ],
          "name": "stdout"
        }
      ]
    },
    {
      "cell_type": "code",
      "metadata": {
        "id": "Yj5V9WhcNUUS",
        "colab_type": "code",
        "colab": {
          "base_uri": "https://localhost:8080/",
          "height": 94
        },
        "outputId": "b2661643-943f-4b12-afa1-ea0628f663c6"
      },
      "source": [
        "y_predicted = predict_one_h(model,x_test)\n",
        "model_name = \"Embedding bidrectional w/ dropout\"\n",
        "meval = model_eval_metrics(y_test,y_predicted, model_name)\n",
        "f1 = f1.append(meval)\n",
        "meval_r2 = evaluate_r2(model,x_test,y_test,model_name)\n",
        "r2 = r2.append(meval_r2)\n",
        "##\n",
        "meval"
      ],
      "execution_count": 25,
      "outputs": [
        {
          "output_type": "stream",
          "text": [
            "557/557 [==============================] - 1s 1ms/step\n"
          ],
          "name": "stdout"
        },
        {
          "output_type": "execute_result",
          "data": {
            "text/html": [
              "<div>\n",
              "<style scoped>\n",
              "    .dataframe tbody tr th:only-of-type {\n",
              "        vertical-align: middle;\n",
              "    }\n",
              "\n",
              "    .dataframe tbody tr th {\n",
              "        vertical-align: top;\n",
              "    }\n",
              "\n",
              "    .dataframe thead th {\n",
              "        text-align: right;\n",
              "    }\n",
              "</style>\n",
              "<table border=\"1\" class=\"dataframe\">\n",
              "  <thead>\n",
              "    <tr style=\"text-align: right;\">\n",
              "      <th></th>\n",
              "      <th>model</th>\n",
              "      <th>accuracy</th>\n",
              "      <th>f1_score</th>\n",
              "      <th>precision</th>\n",
              "      <th>recall</th>\n",
              "    </tr>\n",
              "  </thead>\n",
              "  <tbody>\n",
              "    <tr>\n",
              "      <th>0</th>\n",
              "      <td>Embedding bidrectional w/ dropout</td>\n",
              "      <td>0.894075</td>\n",
              "      <td>0.891765</td>\n",
              "      <td>0.892646</td>\n",
              "      <td>0.892006</td>\n",
              "    </tr>\n",
              "  </tbody>\n",
              "</table>\n",
              "</div>"
            ],
            "text/plain": [
              "                               model  accuracy  f1_score  precision    recall\n",
              "0  Embedding bidrectional w/ dropout  0.894075  0.891765   0.892646  0.892006"
            ]
          },
          "metadata": {
            "tags": []
          },
          "execution_count": 25
        }
      ]
    },
    {
      "cell_type": "markdown",
      "metadata": {
        "id": "OsYGJk3rnroZ",
        "colab_type": "text"
      },
      "source": [
        "### 4) Discuss 1) which model(s) performed best and speculate about \n",
        "\n",
        "I evaluated the models using the r2 score and f1,precision and recall. I used both approaches because business and sport categories are over-represented and it's a multi-category classification problem.\n",
        "\n",
        "The best-performed model was the Bidrectional model.  One reason could be , in this model words (embedded words) are read also in the opposite way, this could reveal a new set of correlations related with the \"traditional approach\". These interactions are not possible to be found using the traditional approach. In part f) , using dropout and increasing the number of epochs helped to improve the performance of this model, however, I believe is more related to the number of epochs.\n",
        "\n",
        "\n",
        "\n",
        "### 2) how you might try to further improve the predictive power of your model (e.g. Glove embeddings? More layers? Combining Conv1D with LSTM layers? More LSTM hidden nodes?)\n",
        "\n",
        "Using the same models but changing the type of embedding I will identify which embedding is the best: the default or Glove. Next I will try to improve individual model performance adding more layers if that is the case. And in the last step I will play with the number of epochs. More epochs will produce a better model, however, the training time could be a problem. I will determine this trade-off.\n",
        "\n",
        " \n",
        "\n",
        " "
      ]
    },
    {
      "cell_type": "code",
      "metadata": {
        "id": "NmGJR2k9vWSL",
        "colab_type": "code",
        "colab": {}
      },
      "source": [
        ""
      ],
      "execution_count": 0,
      "outputs": []
    }
  ]
}